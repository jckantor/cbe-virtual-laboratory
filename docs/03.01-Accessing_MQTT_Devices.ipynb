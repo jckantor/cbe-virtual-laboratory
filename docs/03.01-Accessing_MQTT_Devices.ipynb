{
 "cells": [
  {
   "cell_type": "markdown",
   "metadata": {},
   "source": [
    "<!--NOTEBOOK_HEADER-->\n",
    "*This notebook contains material from [cbe-virtual-laboratory](https://jckantor.github.io/cbe-virtual-laboratory);\n",
    "content is available [on Github](https://github.com/jckantor/cbe-virtual-laboratory.git).*\n"
   ]
  },
  {
   "cell_type": "markdown",
   "metadata": {},
   "source": [
    "<!--NAVIGATION-->\n",
    "< [3.0 Working with Particle](https://jckantor.github.io/cbe-virtual-laboratory/03.00-Working_with_Particle.html) | [Contents](toc.html) |<p><a href=\"https://colab.research.google.com/github/jckantor/cbe-virtual-laboratory/blob/master/docs/03.01-Accessing_MQTT_Devices.ipynb\"> <img align=\"left\" src=\"https://colab.research.google.com/assets/colab-badge.svg\" alt=\"Open in Colab\" title=\"Open in Google Colaboratory\"></a><p><a href=\"https://jckantor.github.io/cbe-virtual-laboratory/03.01-Accessing_MQTT_Devices.ipynb\"> <img align=\"left\" src=\"https://img.shields.io/badge/Github-Download-blue.svg\" alt=\"Download\" title=\"Download Notebook\"></a>"
   ]
  },
  {
   "cell_type": "markdown",
   "metadata": {
    "nbpages": {
     "level": 1,
     "link": "[3.1 Accessing MQTT Devices](https://jckantor.github.io/cbe-virtual-laboratory/03.01-Accessing_MQTT_Devices.html#3.1-Accessing-MQTT-Devices)",
     "section": "3.1 Accessing MQTT Devices"
    }
   },
   "source": [
    "# 3.1 Accessing MQTT Devices"
   ]
  },
  {
   "cell_type": "markdown",
   "metadata": {
    "nbpages": {
     "level": 2,
     "link": "[3.1.1 Installing paho-mqtt library](https://jckantor.github.io/cbe-virtual-laboratory/03.01-Accessing_MQTT_Devices.html#3.1.1-Installing-paho-mqtt-library)",
     "section": "3.1.1 Installing paho-mqtt library"
    }
   },
   "source": [
    "## 3.1.1 Installing paho-mqtt library"
   ]
  },
  {
   "cell_type": "code",
   "execution_count": 2,
   "metadata": {
    "colab": {
     "base_uri": "https://localhost:8080/",
     "height": 34
    },
    "executionInfo": {
     "elapsed": 2838,
     "status": "ok",
     "timestamp": 1602243573073,
     "user": {
      "displayName": "Jeffrey Kantor",
      "photoUrl": "https://lh3.googleusercontent.com/a-/AOh14Gg_n8V7bVINy02QRuRgOoMo11Ri7NKU3OUKdC1bkQ=s64",
      "userId": "09038942003589296665"
     },
     "user_tz": 240
    },
    "id": "dxYGFu73t-ux",
    "nbpages": {
     "level": 2,
     "link": "[3.1.1 Installing paho-mqtt library](https://jckantor.github.io/cbe-virtual-laboratory/03.01-Accessing_MQTT_Devices.html#3.1.1-Installing-paho-mqtt-library)",
     "section": "3.1.1 Installing paho-mqtt library"
    },
    "outputId": "a24f5cc9-8620-477f-8e43-9e274558a6a1"
   },
   "outputs": [
    {
     "name": "stdout",
     "output_type": "stream",
     "text": [
      "Requirement already satisfied: paho-mqtt in /usr/local/lib/python3.6/dist-packages (1.5.1)\n"
     ]
    }
   ],
   "source": [
    "!pip install paho-mqtt"
   ]
  },
  {
   "cell_type": "markdown",
   "metadata": {
    "nbpages": {
     "level": 2,
     "link": "[3.1.2 Particle Argon](https://jckantor.github.io/cbe-virtual-laboratory/03.01-Accessing_MQTT_Devices.html#3.1.2-Particle-Argon)",
     "section": "3.1.2 Particle Argon"
    }
   },
   "source": [
    "## 3.1.2 Particle Argon\n",
    "\n",
    "The following code is flashed to the Particle Argon using the Particle Web IDE.\n",
    "\n",
    "```\n",
    "// Report temperature and humidity sensor. Provide a short blink of D7\n",
    "// to indicate an temperture/humidity update.\n",
    "\n",
    "#include <Grove_Temperature_And_Humidity_Sensor.h>\n",
    "#include <MQTT.h>\n",
    "\n",
    "int led = D7;\n",
    "DHT dht(D2);\n",
    "\n",
    "float temp, humidity;\n",
    "\n",
    "void callback(char* topic, byte* payload, unsigned int length);\n",
    "MQTT client(\"mqtt.eclipse.org\", 1883, callback);\n",
    "\n",
    "// receive message\n",
    "void callback(char* topic, byte* payload, unsigned int length) {\n",
    "}\n",
    "\n",
    "void setup() {\n",
    "    \n",
    "    dht.begin();\n",
    "    pinMode(led, OUTPUT);\n",
    "    client.connect(\"argon_\" + String(Time.now()));\n",
    "}\n",
    "\n",
    "void loop() {\n",
    "    \n",
    "    temp = dht.getTempFarenheit();\n",
    "    humidity = dht.getHumidity();\n",
    "    \n",
    "    client.publish(\"cbe-virtual-laboratory/devices/argon\", Time.timeStr() + \", \" + String(temp, 1) + \", \" + String(humidity, 1));\n",
    "    \n",
    "    digitalWrite(led, HIGH);\n",
    "    delay(200);\n",
    "    digitalWrite(led, LOW);\n",
    "    delay(4800);\n",
    "}\n",
    "```"
   ]
  },
  {
   "cell_type": "markdown",
   "metadata": {
    "nbpages": {
     "level": 2,
     "link": "[3.1.3 Receiving data from Particle Argon device](https://jckantor.github.io/cbe-virtual-laboratory/03.01-Accessing_MQTT_Devices.html#3.1.3-Receiving-data-from-Particle-Argon-device)",
     "section": "3.1.3 Receiving data from Particle Argon device"
    }
   },
   "source": [
    "## 3.1.3 Receiving data from Particle Argon device"
   ]
  },
  {
   "cell_type": "code",
   "execution_count": 14,
   "metadata": {
    "colab": {
     "base_uri": "https://localhost:8080/",
     "height": 136
    },
    "executionInfo": {
     "elapsed": 31197,
     "status": "ok",
     "timestamp": 1602247872850,
     "user": {
      "displayName": "Jeffrey Kantor",
      "photoUrl": "https://lh3.googleusercontent.com/a-/AOh14Gg_n8V7bVINy02QRuRgOoMo11Ri7NKU3OUKdC1bkQ=s64",
      "userId": "09038942003589296665"
     },
     "user_tz": 240
    },
    "id": "wJDfVW7wuxsh",
    "nbpages": {
     "level": 2,
     "link": "[3.1.3 Receiving data from Particle Argon device](https://jckantor.github.io/cbe-virtual-laboratory/03.01-Accessing_MQTT_Devices.html#3.1.3-Receiving-data-from-Particle-Argon-device)",
     "section": "3.1.3 Receiving data from Particle Argon device"
    },
    "outputId": "6e707933-4738-4ffe-c4e6-df3352ad689b"
   },
   "outputs": [
    {
     "name": "stdout",
     "output_type": "stream",
     "text": [
      "Connected to mqtt.eclipse.org with result code 0\n",
      "cbe-virtual-laboratory/devices/argon: Fri Oct  9 12:50:42 2020, 71.6, 47.0\n",
      "cbe-virtual-laboratory/devices/argon: Fri Oct  9 12:50:47 2020, 0.0, 47.0\n",
      "cbe-virtual-laboratory/devices/argon: Fri Oct  9 12:50:52 2020, 71.6, 47.0\n",
      "cbe-virtual-laboratory/devices/argon: Fri Oct  9 12:50:58 2020, 0.0, 47.0\n",
      "cbe-virtual-laboratory/devices/argon: Fri Oct  9 12:51:03 2020, 71.6, 47.0\n",
      "cbe-virtual-laboratory/devices/argon: Fri Oct  9 12:51:08 2020, 71.6, 47.0\n"
     ]
    }
   ],
   "source": [
    "import paho.mqtt.client as mqtt\n",
    "import paho.mqtt.publish as publish\n",
    "import time\n",
    "\n",
    "# select experiment duration\n",
    "broker = \"mqtt.eclipse.org\"\n",
    "topic = \"cbe-virtual-laboratory/devices/#\"\n",
    "duration = 30\n",
    "\n",
    "# callback after completing connection\n",
    "def on_connect(client, userdata, flags, rc):\n",
    "    print(f\"Connected to {broker} with result code {rc}\")\n",
    "    client.subscribe(topic)\n",
    "\n",
    "# callback after receiving a message\n",
    "def on_message(client, userdata, msg):\n",
    "    print(f\"{msg.topic}: {msg.payload.decode('utf-8')}\")\n",
    "\n",
    "# create and setup MQTT client\n",
    "client = mqtt.Client()\n",
    "client.on_connect = on_connect\n",
    "client.on_message = on_message\n",
    "client.connect(broker, 1883, 60)\n",
    "\n",
    "# listen for measurement information\n",
    "client.loop_start()\n",
    "time.sleep(duration)\n",
    "client.loop_stop()"
   ]
  },
  {
   "cell_type": "code",
   "execution_count": null,
   "metadata": {
    "id": "qK1XIzGOvKCV",
    "nbpages": {
     "level": 2,
     "link": "[3.1.3 Receiving data from Particle Argon device](https://jckantor.github.io/cbe-virtual-laboratory/03.01-Accessing_MQTT_Devices.html#3.1.3-Receiving-data-from-Particle-Argon-device)",
     "section": "3.1.3 Receiving data from Particle Argon device"
    }
   },
   "outputs": [],
   "source": []
  },
  {
   "cell_type": "markdown",
   "metadata": {},
   "source": [
    "<!--NAVIGATION-->\n",
    "< [3.0 Working with Particle](https://jckantor.github.io/cbe-virtual-laboratory/03.00-Working_with_Particle.html) | [Contents](toc.html) |<p><a href=\"https://colab.research.google.com/github/jckantor/cbe-virtual-laboratory/blob/master/docs/03.01-Accessing_MQTT_Devices.ipynb\"> <img align=\"left\" src=\"https://colab.research.google.com/assets/colab-badge.svg\" alt=\"Open in Colab\" title=\"Open in Google Colaboratory\"></a><p><a href=\"https://jckantor.github.io/cbe-virtual-laboratory/03.01-Accessing_MQTT_Devices.ipynb\"> <img align=\"left\" src=\"https://img.shields.io/badge/Github-Download-blue.svg\" alt=\"Download\" title=\"Download Notebook\"></a>"
   ]
  }
 ],
 "metadata": {
  "colab": {
   "authorship_tag": "ABX9TyNzPCm3G652ifntqe5emOdP",
   "name": "03.01-Accessing_MQTT_Devices.ipynb",
   "provenance": []
  },
  "kernelspec": {
   "display_name": "Python 3",
   "language": "python",
   "name": "python3"
  },
  "language_info": {
   "codemirror_mode": {
    "name": "ipython",
    "version": 3
   },
   "file_extension": ".py",
   "mimetype": "text/x-python",
   "name": "python",
   "nbconvert_exporter": "python",
   "pygments_lexer": "ipython3",
   "version": "3.7.4"
  }
 },
 "nbformat": 4,
 "nbformat_minor": 4
}
