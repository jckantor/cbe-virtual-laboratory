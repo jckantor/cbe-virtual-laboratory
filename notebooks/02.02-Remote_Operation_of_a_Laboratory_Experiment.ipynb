{
 "cells": [
  {
   "cell_type": "markdown",
   "metadata": {
    "id": "kpLyVHsjDqSt"
   },
   "source": [
    "# Remote Operation of a Laboratory Experiment via MQTT"
   ]
  },
  {
   "cell_type": "markdown",
   "metadata": {
    "id": "Goa0-Jn_s1bx"
   },
   "source": [
    "## Installations"
   ]
  },
  {
   "cell_type": "code",
   "execution_count": 1,
   "metadata": {
    "colab": {
     "base_uri": "https://localhost:8080/",
     "height": 187
    },
    "executionInfo": {
     "elapsed": 5031,
     "status": "ok",
     "timestamp": 1601586552676,
     "user": {
      "displayName": "Jeffrey Kantor",
      "photoUrl": "https://lh3.googleusercontent.com/a-/AOh14Gg_n8V7bVINy02QRuRgOoMo11Ri7NKU3OUKdC1bkQ=s64",
      "userId": "09038942003589296665"
     },
     "user_tz": 240
    },
    "id": "OF0o09nNjQju",
    "outputId": "5f2cfcb8-438b-4ed8-9ec0-0731930a3fd8"
   },
   "outputs": [
    {
     "name": "stdout",
     "output_type": "stream",
     "text": [
      "Collecting paho-mqtt\n",
      "\u001b[?25l  Downloading https://files.pythonhosted.org/packages/32/d3/6dcb8fd14746fcde6a556f932b5de8bea8fedcb85b3a092e0e986372c0e7/paho-mqtt-1.5.1.tar.gz (101kB)\n",
      "\u001b[K     |████████████████████████████████| 102kB 3.4MB/s ta 0:00:011\n",
      "\u001b[?25hBuilding wheels for collected packages: paho-mqtt\n",
      "  Building wheel for paho-mqtt (setup.py) ... \u001b[?25l\u001b[?25hdone\n",
      "  Created wheel for paho-mqtt: filename=paho_mqtt-1.5.1-cp36-none-any.whl size=61544 sha256=bad3dd55857d971ccfcb4938c41297a53f86ade7baeeee91d82dc4a1973f9629\n",
      "  Stored in directory: /root/.cache/pip/wheels/75/e2/f5/78942b19b4d135605e58dfe85fba52253b14d636aabf76904b\n",
      "Successfully built paho-mqtt\n",
      "Installing collected packages: paho-mqtt\n",
      "Successfully installed paho-mqtt-1.5.1\n"
     ]
    }
   ],
   "source": [
    "!pip install paho-mqtt"
   ]
  },
  {
   "cell_type": "markdown",
   "metadata": {
    "id": "Vq1o8PaPD6wi"
   },
   "source": [
    "## Remote Operation of a Laboratory Experiment\n",
    "\n",
    "This cell establishes a connection to two topics on an MQTT server. The 'command' channel is used to publish a message to start a remote experiment for a duration given in seconds. A client is opened to listen to a 'measurement' channel.\n",
    "\n",
    "Before running this channel, start up up the companion notebook that simulates a remote experiment https://colab.research.google.com/drive/1cj9Y8IlVX2-ZMEMoVWi8G5WDKNr3gkr9?usp=sharing "
   ]
  },
  {
   "cell_type": "markdown",
   "metadata": {
    "id": "5_gOHgpJFg5q"
   },
   "source": [
    "## Version 1"
   ]
  },
  {
   "cell_type": "code",
   "execution_count": 4,
   "metadata": {
    "colab": {
     "base_uri": "https://localhost:8080/",
     "height": 295
    },
    "executionInfo": {
     "elapsed": 11000,
     "status": "ok",
     "timestamp": 1601588155706,
     "user": {
      "displayName": "Jeffrey Kantor",
      "photoUrl": "https://lh3.googleusercontent.com/a-/AOh14Gg_n8V7bVINy02QRuRgOoMo11Ri7NKU3OUKdC1bkQ=s64",
      "userId": "09038942003589296665"
     },
     "user_tz": 240
    },
    "id": "OIc0GSZLjLXC",
    "outputId": "c23c475a-6375-48cd-838e-17ec4c4b01aa"
   },
   "outputs": [
    {
     "data": {
      "image/png": "[encoded data removed]",
      "text/plain": [
       "<Figure size 432x288 with 1 Axes>"
      ]
     },
     "metadata": {},
     "output_type": "display_data"
    },
    {
     "name": "stdout",
     "output_type": "stream",
     "text": [
      "Connected with result code 0\n"
     ]
    },
    {
     "name": "stderr",
     "output_type": "stream",
     "text": [
      "Exception in thread Thread-4:\n",
      "Traceback (most recent call last):\n",
      "  File \"/Users/jeff/opt/anaconda3/lib/python3.7/threading.py\", line 926, in _bootstrap_inner\n",
      "    self.run()\n",
      "  File \"/Users/jeff/opt/anaconda3/lib/python3.7/threading.py\", line 870, in run\n",
      "    self._target(*self._args, **self._kwargs)\n",
      "  File \"/Users/jeff/opt/anaconda3/lib/python3.7/site-packages/paho/mqtt/client.py\", line 3452, in _thread_main\n",
      "    self.loop_forever(retry_first_connection=True)\n",
      "  File \"/Users/jeff/opt/anaconda3/lib/python3.7/site-packages/paho/mqtt/client.py\", line 1779, in loop_forever\n",
      "    rc = self.loop(timeout, max_packets)\n",
      "  File \"/Users/jeff/opt/anaconda3/lib/python3.7/site-packages/paho/mqtt/client.py\", line 1181, in loop\n",
      "    rc = self.loop_read(max_packets)\n",
      "  File \"/Users/jeff/opt/anaconda3/lib/python3.7/site-packages/paho/mqtt/client.py\", line 1572, in loop_read\n",
      "    rc = self._packet_read()\n",
      "  File \"/Users/jeff/opt/anaconda3/lib/python3.7/site-packages/paho/mqtt/client.py\", line 2310, in _packet_read\n",
      "    rc = self._packet_handle()\n",
      "  File \"/Users/jeff/opt/anaconda3/lib/python3.7/site-packages/paho/mqtt/client.py\", line 2942, in _packet_handle\n",
      "    return self._handle_connack()\n",
      "  File \"/Users/jeff/opt/anaconda3/lib/python3.7/site-packages/paho/mqtt/client.py\", line 3030, in _handle_connack\n",
      "    self, self._userdata, flags_dict, result)\n",
      "  File \"<ipython-input-4-175b4c8aa3cc>\", line 29, in on_connect\n",
      "    client.subscribe(expt_topic)\n",
      "NameError: name 'expt_topic' is not defined\n",
      "\n"
     ]
    }
   ],
   "source": [
    "%matplotlib inline\n",
    "import paho.mqtt.client as mqtt\n",
    "import paho.mqtt.publish as publish\n",
    "import time\n",
    "import matplotlib.pyplot as plt\n",
    "import numpy as np\n",
    "from IPython import display\n",
    "\n",
    "# select experiment duration\n",
    "duration = 10\n",
    "topic = \"cbe-virtual-laboratory/tank-level-experiment\"\n",
    "client = \"plotter\"\n",
    "\n",
    "# setup a plotting window\n",
    "x = []\n",
    "y = []\n",
    "fig, ax = plt.subplots(1, 1)\n",
    "ax.plot(x, y, '.', ms=10)\n",
    "ax.set_xlim(0, 40)\n",
    "ax.set_ylim(0, 2.1)\n",
    "ax.set_xlabel('time / seconds')\n",
    "ax.set_ylabel('level')\n",
    "ax.set_title(topic)\n",
    "line = ax.lines[0]\n",
    "display.display(fig)\n",
    "\n",
    "# callbacks\n",
    "def on_connect(client, userdata, flags, rc):\n",
    "    print(f\"Connected with result code {rc}\")\n",
    "    client.subscribe(topic)\n",
    "\n",
    "# call back to process message from remote experiment\n",
    "def on_message(client, userdata, msg):\n",
    "    #print(msg.topic + \" \" + msg.payload.decode(\"utf-8\"))\n",
    "    xdata, ydata = [float(i) for i in msg.payload.decode(\"utf-8\").split(',')]\n",
    "    x.append(xdata)\n",
    "    y.append(ydata)\n",
    "    line.set_data(x, y)\n",
    "    display.clear_output(wait=True)\n",
    "    display.display(fig)\n",
    "\n",
    "# setup client\n",
    "client = mqtt.Client()\n",
    "client.on_connect = on_connect\n",
    "client.on_message = on_message\n",
    "\n",
    "# connect to measurement channel\n",
    "client.connect(\"mqtt.eclipse.org\", 1883, 60)\n",
    "\n",
    "# tell experiment to start\n",
    "msg = f'{{\"client\": \"plotter\", \"duration\": {duration}}}'\n",
    "publish.single(topic + \"/command\", msg, hostname=\"mqtt.eclipse.org\")\n",
    "\n",
    "# listen for measurement information\n",
    "client.loop_start()\n",
    "time.sleep(duration)\n",
    "client.loop_stop()\n",
    "\n",
    "# prevent the plot showing again after completion\n",
    "plt.close()"
   ]
  },
  {
   "cell_type": "code",
   "execution_count": null,
   "metadata": {},
   "outputs": [],
   "source": []
  }
 ],
 "metadata": {
  "colab": {
   "authorship_tag": "ABX9TyOEL+1kstycKKIptMQHCKlA",
   "collapsed_sections": [],
   "name": "Remote_Operation_of_a_Laboratory_Experiment.ipynb",
   "provenance": []
  },
  "kernelspec": {
   "display_name": "Python 3",
   "language": "python",
   "name": "python3"
  },
  "language_info": {
   "codemirror_mode": {
    "name": "ipython",
    "version": 3
   },
   "file_extension": ".py",
   "mimetype": "text/x-python",
   "name": "python",
   "nbconvert_exporter": "python",
   "pygments_lexer": "ipython3",
   "version": "3.7.4"
  }
 },
 "nbformat": 4,
 "nbformat_minor": 4
}
