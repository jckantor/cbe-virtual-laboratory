{
 "cells": [
  {
   "cell_type": "markdown",
   "metadata": {},
   "source": [
    "<!--NOTEBOOK_HEADER-->\n",
    "*This notebook contains material from [cbe-virtual-laboratory](https://jckantor.github.io/cbe-virtual-laboratory);\n",
    "content is available [on Github](https://github.com/jckantor/cbe-virtual-laboratory.git).*\n"
   ]
  },
  {
   "cell_type": "markdown",
   "metadata": {},
   "source": [
    "<!--NAVIGATION-->\n",
    "< [10.0 Projects](https://jckantor.github.io/cbe-virtual-laboratory/10.00-Projects.html) | [Contents](toc.html) |<p><a href=\"https://colab.research.google.com/github/jckantor/cbe-virtual-laboratory/blob/master/docs/A.00-Resources.ipynb\"> <img align=\"left\" src=\"https://colab.research.google.com/assets/colab-badge.svg\" alt=\"Open in Colab\" title=\"Open in Google Colaboratory\"></a><p><a href=\"https://jckantor.github.io/cbe-virtual-laboratory/A.00-Resources.ipynb\"> <img align=\"left\" src=\"https://img.shields.io/badge/Github-Download-blue.svg\" alt=\"Download\" title=\"Download Notebook\"></a>"
   ]
  },
  {
   "cell_type": "markdown",
   "metadata": {
    "id": "YC8EttSgs56N",
    "nbpages": {
     "level": 1,
     "link": "[A.0 Resources](https://jckantor.github.io/cbe-virtual-laboratory/A.00-Resources.html#A.0-Resources)",
     "section": "A.0 Resources"
    }
   },
   "source": [
    "# A.0 Resources"
   ]
  },
  {
   "cell_type": "markdown",
   "metadata": {
    "id": "ADf1RKFj7C7A",
    "nbpages": {
     "level": 2,
     "link": "[A.0.1 Vendors](https://jckantor.github.io/cbe-virtual-laboratory/A.00-Resources.html#A.0.1-Vendors)",
     "section": "A.0.1 Vendors"
    }
   },
   "source": [
    "## A.0.1 Vendors\n",
    "\n",
    "* [National Instruments](https://www.ni.com/en-us.html). Full line vendor of industrial and laboratory grade instruments and software, including LabView."
   ]
  },
  {
   "cell_type": "markdown",
   "metadata": {
    "id": "s4FhNHebs-Pa",
    "nbpages": {
     "level": 2,
     "link": "[A.0.2 IoT Devices and Services](https://jckantor.github.io/cbe-virtual-laboratory/A.00-Resources.html#A.0.2-IoT-Devices-and-Services)",
     "section": "A.0.2 IoT Devices and Services"
    }
   },
   "source": [
    "## A.0.2 IoT Devices and Services\n",
    "\n",
    "* [National Control Devices](https://ncd.io/). A producer of IoT devices, software, and services for industrial and military applications. Includes feather boards for 5 volt expansion of I2C communications.\n",
    "\n",
    "* [Particle.io](particle.io). A producer of IoT devices and services with a larger developer community."
   ]
  },
  {
   "cell_type": "markdown",
   "metadata": {
    "id": "5ba5joAkyp3h",
    "nbpages": {
     "level": 2,
     "link": "[A.0.3 Sensors](https://jckantor.github.io/cbe-virtual-laboratory/A.00-Resources.html#A.0.3-Sensors)",
     "section": "A.0.3 Sensors"
    }
   },
   "source": [
    "## A.0.3 Sensors\n",
    "\n",
    "* [Adafruit](https://www.adafruit.com/about). Full range of devices, sensors, and software (including CircuitPython).\n",
    "* [DFRobot](dfrobot.com). Producer of open source hardware and software products, including a full range of sensors, with a strong focus on developers and STEM education."
   ]
  },
  {
   "cell_type": "markdown",
   "metadata": {
    "id": "-9Ep-7015VBA",
    "nbpages": {
     "level": 2,
     "link": "[A.0.4 Software Platforms](https://jckantor.github.io/cbe-virtual-laboratory/A.00-Resources.html#A.0.4-Software-Platforms)",
     "section": "A.0.4 Software Platforms"
    }
   },
   "source": [
    "## A.0.4 Software Platforms\n",
    "\n",
    "* [Blynk](https://blynk.io/).  Hardware agnostic platform for creating mobile IoT applications."
   ]
  },
  {
   "cell_type": "code",
   "execution_count": null,
   "metadata": {
    "id": "wzCnOzOms56O",
    "nbpages": {
     "level": 2,
     "link": "[A.0.4 Software Platforms](https://jckantor.github.io/cbe-virtual-laboratory/A.00-Resources.html#A.0.4-Software-Platforms)",
     "section": "A.0.4 Software Platforms"
    }
   },
   "outputs": [],
   "source": []
  },
  {
   "cell_type": "markdown",
   "metadata": {},
   "source": [
    "<!--NAVIGATION-->\n",
    "< [10.0 Projects](https://jckantor.github.io/cbe-virtual-laboratory/10.00-Projects.html) | [Contents](toc.html) |<p><a href=\"https://colab.research.google.com/github/jckantor/cbe-virtual-laboratory/blob/master/docs/A.00-Resources.ipynb\"> <img align=\"left\" src=\"https://colab.research.google.com/assets/colab-badge.svg\" alt=\"Open in Colab\" title=\"Open in Google Colaboratory\"></a><p><a href=\"https://jckantor.github.io/cbe-virtual-laboratory/A.00-Resources.ipynb\"> <img align=\"left\" src=\"https://img.shields.io/badge/Github-Download-blue.svg\" alt=\"Download\" title=\"Download Notebook\"></a>"
   ]
  }
 ],
 "metadata": {
  "colab": {
   "name": "A.00-Resources.ipynb",
   "provenance": []
  },
  "kernelspec": {
   "display_name": "Python 3",
   "language": "python",
   "name": "python3"
  },
  "language_info": {
   "codemirror_mode": {
    "name": "ipython",
    "version": 3
   },
   "file_extension": ".py",
   "mimetype": "text/x-python",
   "name": "python",
   "nbconvert_exporter": "python",
   "pygments_lexer": "ipython3",
   "version": "3.7.4"
  }
 },
 "nbformat": 4,
 "nbformat_minor": 0
}
