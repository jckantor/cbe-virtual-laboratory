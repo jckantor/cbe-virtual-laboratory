{
 "cells": [
  {
   "cell_type": "markdown",
   "metadata": {},
   "source": [
    "<!--NOTEBOOK_HEADER-->\n",
    "*This notebook contains material from [cbe-virtual-laboratory](https://jckantor.github.io/cbe-virtual-laboratory);\n",
    "content is available [on Github](https://github.com/jckantor/cbe-virtual-laboratory.git).*\n"
   ]
  },
  {
   "cell_type": "markdown",
   "metadata": {},
   "source": [
    "<!--NAVIGATION-->\n",
    "< [2.3 Particle Command Line Interface (CLI)](https://jckantor.github.io/cbe-virtual-laboratory/02.03-Particle-CLI.html) | [Contents](toc.html) | [2.5 Simple Stop Watch using Interrupts](https://jckantor.github.io/cbe-virtual-laboratory/02.05-Simple_Stop_Watch_using_Interrupts.html) ><p><a href=\"https://colab.research.google.com/github/jckantor/cbe-virtual-laboratory/blob/master/docs/02.04-Ultrasonic_Distance_Ranger.ipynb\"> <img align=\"left\" src=\"https://colab.research.google.com/assets/colab-badge.svg\" alt=\"Open in Colab\" title=\"Open in Google Colaboratory\"></a><p><a href=\"https://jckantor.github.io/cbe-virtual-laboratory/02.04-Ultrasonic_Distance_Ranger.ipynb\"> <img align=\"left\" src=\"https://img.shields.io/badge/Github-Download-blue.svg\" alt=\"Download\" title=\"Download Notebook\"></a>"
   ]
  },
  {
   "cell_type": "markdown",
   "metadata": {
    "id": "2eIn0fxRERLC",
    "nbpages": {
     "level": 1,
     "link": "[2.4 Ultrasonic Distance Ranger](https://jckantor.github.io/cbe-virtual-laboratory/02.04-Ultrasonic_Distance_Ranger.html#2.4-Ultrasonic-Distance-Ranger)",
     "section": "2.4 Ultrasonic Distance Ranger"
    }
   },
   "source": [
    "# 2.4 Ultrasonic Distance Ranger\n"
   ]
  },
  {
   "cell_type": "markdown",
   "metadata": {
    "id": "aMCK4cZkEZ_3",
    "nbpages": {
     "level": 2,
     "link": "[2.4.1 Particle CLI](https://jckantor.github.io/cbe-virtual-laboratory/02.04-Ultrasonic_Distance_Ranger.html#2.4.1-Particle-CLI)",
     "section": "2.4.1 Particle CLI"
    }
   },
   "source": [
    "## 2.4.1 Particle CLI"
   ]
  },
  {
   "cell_type": "markdown",
   "metadata": {
    "id": "I8T4ooaP_Th3",
    "nbpages": {
     "level": 3,
     "link": "[2.4.1.1 Installation](https://jckantor.github.io/cbe-virtual-laboratory/02.04-Ultrasonic_Distance_Ranger.html#2.4.1.1-Installation)",
     "section": "2.4.1.1 Installation"
    }
   },
   "source": [
    "### 2.4.1.1 Installation"
   ]
  },
  {
   "cell_type": "code",
   "execution_count": 1,
   "metadata": {
    "executionInfo": {
     "elapsed": 39051,
     "status": "ok",
     "timestamp": 1603559425987,
     "user": {
      "displayName": "Jeffrey Kantor",
      "photoUrl": "https://lh3.googleusercontent.com/a-/AOh14Gg_n8V7bVINy02QRuRgOoMo11Ri7NKU3OUKdC1bkQ=s64",
      "userId": "09038942003589296665"
     },
     "user_tz": 240
    },
    "id": "U9qOi8Rdyzwx",
    "nbpages": {
     "level": 3,
     "link": "[2.4.1.1 Installation](https://jckantor.github.io/cbe-virtual-laboratory/02.04-Ultrasonic_Distance_Ranger.html#2.4.1.1-Installation)",
     "section": "2.4.1.1 Installation"
    }
   },
   "outputs": [],
   "source": [
    "%%capture\n",
    "!bash <( curl -sL https://particle.io/install-cli )\n",
    "\n",
    "# path to the particle cli. May be environment dependent.\n",
    "particle_cli = \"/root/bin/particle\""
   ]
  },
  {
   "cell_type": "markdown",
   "metadata": {
    "id": "sgzI1_gJlkiQ",
    "nbpages": {
     "level": 3,
     "link": "[2.4.1.1 Installation](https://jckantor.github.io/cbe-virtual-laboratory/02.04-Ultrasonic_Distance_Ranger.html#2.4.1.1-Installation)",
     "section": "2.4.1.1 Installation"
    }
   },
   "source": []
  },
  {
   "cell_type": "markdown",
   "metadata": {
    "id": "X21Hmxnb_J8B",
    "nbpages": {
     "level": 3,
     "link": "[2.4.1.2 Utility functions](https://jckantor.github.io/cbe-virtual-laboratory/02.04-Ultrasonic_Distance_Ranger.html#2.4.1.2-Utility-functions)",
     "section": "2.4.1.2 Utility functions"
    }
   },
   "source": [
    "### 2.4.1.2 Utility functions"
   ]
  },
  {
   "cell_type": "code",
   "execution_count": 2,
   "metadata": {
    "executionInfo": {
     "elapsed": 39041,
     "status": "ok",
     "timestamp": 1603559425988,
     "user": {
      "displayName": "Jeffrey Kantor",
      "photoUrl": "https://lh3.googleusercontent.com/a-/AOh14Gg_n8V7bVINy02QRuRgOoMo11Ri7NKU3OUKdC1bkQ=s64",
      "userId": "09038942003589296665"
     },
     "user_tz": 240
    },
    "id": "IVNRmKaglmkp",
    "nbpages": {
     "level": 3,
     "link": "[2.4.1.2 Utility functions](https://jckantor.github.io/cbe-virtual-laboratory/02.04-Ultrasonic_Distance_Ranger.html#2.4.1.2-Utility-functions)",
     "section": "2.4.1.2 Utility functions"
    }
   },
   "outputs": [],
   "source": [
    "import re\n",
    "import subprocess\n",
    "\n",
    "# regular expression to strip ansi control characters\n",
    "ansi = re.compile(r'\\x1B(?:[@-Z\\\\-_]|\\[[0-?]*[ -/]*[@-~])')\n",
    "\n",
    "# decode byte string and strip ansi control characters\n",
    "def decode_bytes(byte_string):\n",
    "    if isinstance(byte_string, bytes):\n",
    "        result = byte_string.decode(\"utf-8\")\n",
    "    return ansi.sub(\"\", result)\n",
    "\n",
    "# streamline call to the particle-cli\n",
    "def particle(args):\n",
    "    process = subprocess.run([\"/root/bin/particle\"] + args,\n",
    "                             stdout=subprocess.PIPE,\n",
    "                             stderr=subprocess.PIPE)\n",
    "    process.stdout = decode_bytes(process.stdout)\n",
    "    process.stderr = decode_bytes(process.stderr)\n",
    "    return process"
   ]
  },
  {
   "cell_type": "markdown",
   "metadata": {
    "id": "RyR318S-FEOT",
    "nbpages": {
     "level": 3,
     "link": "[2.4.1.3 Login to Particle](https://jckantor.github.io/cbe-virtual-laboratory/02.04-Ultrasonic_Distance_Ranger.html#2.4.1.3-Login-to-Particle)",
     "section": "2.4.1.3 Login to Particle"
    }
   },
   "source": [
    "### 2.4.1.3 Login to Particle"
   ]
  },
  {
   "cell_type": "code",
   "execution_count": 3,
   "metadata": {
    "colab": {
     "base_uri": "https://localhost:8080/",
     "height": 85
    },
    "executionInfo": {
     "elapsed": 52437,
     "status": "ok",
     "timestamp": 1603559439393,
     "user": {
      "displayName": "Jeffrey Kantor",
      "photoUrl": "https://lh3.googleusercontent.com/a-/AOh14Gg_n8V7bVINy02QRuRgOoMo11Ri7NKU3OUKdC1bkQ=s64",
      "userId": "09038942003589296665"
     },
     "user_tz": 240
    },
    "id": "1CMV13RsYAR9",
    "nbpages": {
     "level": 3,
     "link": "[2.4.1.3 Login to Particle](https://jckantor.github.io/cbe-virtual-laboratory/02.04-Ultrasonic_Distance_Ranger.html#2.4.1.3-Login-to-Particle)",
     "section": "2.4.1.3 Login to Particle"
    },
    "outputId": "855dfd9f-fa5d-423e-b00a-44f1ff05642d"
   },
   "outputs": [
    {
     "name": "stdout",
     "output_type": "stream",
     "text": [
      "Username: ··········\n",
      "Password: ··········\n",
      "> Successfully completed login!\n",
      "\n"
     ]
    }
   ],
   "source": [
    "import getpass\n",
    "\n",
    "# prompt for username and password\n",
    "username = getpass.getpass(prompt=\"Username: \")\n",
    "password = getpass.getpass(prompt=\"Password: \")\n",
    "\n",
    "# attempt login\n",
    "output = particle([\"login\", \"--username\", username, \"--password\", password])\n",
    "\n",
    "# report results\n",
    "if output.returncode:\n",
    "    print(f\"Return code = {output.returncode}\")\n",
    "    print(output.stderr)\n",
    "else:\n",
    "    print(output.stdout)"
   ]
  },
  {
   "cell_type": "markdown",
   "metadata": {
    "id": "xkUuoM-ZmGVb",
    "nbpages": {
     "level": 3,
     "link": "[2.4.1.4 Select a device](https://jckantor.github.io/cbe-virtual-laboratory/02.04-Ultrasonic_Distance_Ranger.html#2.4.1.4-Select-a-device)",
     "section": "2.4.1.4 Select a device"
    }
   },
   "source": [
    "### 2.4.1.4 Select a device\n",
    "\n",
    "The following cell downloads a list of all user devices and creates a list of device names. Here we choose the first name in the list for the rest of this notebook. If this is not the device to be used, then modify this cell accordingly."
   ]
  },
  {
   "cell_type": "code",
   "execution_count": 4,
   "metadata": {
    "colab": {
     "base_uri": "https://localhost:8080/",
     "height": 51
    },
    "executionInfo": {
     "elapsed": 2849,
     "status": "ok",
     "timestamp": 1603559446470,
     "user": {
      "displayName": "Jeffrey Kantor",
      "photoUrl": "https://lh3.googleusercontent.com/a-/AOh14Gg_n8V7bVINy02QRuRgOoMo11Ri7NKU3OUKdC1bkQ=s64",
      "userId": "09038942003589296665"
     },
     "user_tz": 240
    },
    "id": "leGyaNy4mMtX",
    "nbpages": {
     "level": 3,
     "link": "[2.4.1.4 Select a device](https://jckantor.github.io/cbe-virtual-laboratory/02.04-Ultrasonic_Distance_Ranger.html#2.4.1.4-Select-a-device)",
     "section": "2.4.1.4 Select a device"
    },
    "outputId": "07511845-0add-44b8-cb69-b08cb6059ebf"
   },
   "outputs": [
    {
     "name": "stdout",
     "output_type": "stream",
     "text": [
      "jck_argon_01 [e00fce68eaceb1faa7cf7193] (Argon) is online\n",
      "\n"
     ]
    }
   ],
   "source": [
    "devices = [line.split()[0] for line in particle([\"list\"]).stdout.splitlines()]\n",
    "device_name = devices[0]\n",
    "print(particle([\"list\", device_name]).stdout)"
   ]
  },
  {
   "cell_type": "markdown",
   "metadata": {
    "id": "GFanTiZ1RJsE",
    "nbpages": {
     "level": 2,
     "link": "[2.4.2 Project Requirements](https://jckantor.github.io/cbe-virtual-laboratory/02.04-Ultrasonic_Distance_Ranger.html#2.4.2-Project-Requirements)",
     "section": "2.4.2 Project Requirements"
    }
   },
   "source": [
    "## 2.4.2 Project Requirements\n",
    "\n",
    "Create a simple rangefinder that reports distance, measured in centimeters, to a real-time display.\n",
    "\n"
   ]
  },
  {
   "cell_type": "markdown",
   "metadata": {
    "id": "peWv99hinM1O",
    "nbpages": {
     "level": 2,
     "link": "[2.4.3 Project Hardware](https://jckantor.github.io/cbe-virtual-laboratory/02.04-Ultrasonic_Distance_Ranger.html#2.4.3-Project-Hardware)",
     "section": "2.4.3 Project Hardware"
    }
   },
   "source": [
    "## 2.4.3 Project Hardware"
   ]
  },
  {
   "cell_type": "markdown",
   "metadata": {
    "id": "Wy36pTBayB-9",
    "nbpages": {
     "level": 3,
     "link": "[2.4.3.1 Grove Ultrasonic Ranger](https://jckantor.github.io/cbe-virtual-laboratory/02.04-Ultrasonic_Distance_Ranger.html#2.4.3.1-Grove-Ultrasonic-Ranger)",
     "section": "2.4.3.1 Grove Ultrasonic Ranger"
    }
   },
   "source": [
    "### 2.4.3.1 Grove Ultrasonic Ranger\n",
    "\n",
    "[Github](https://github.com/Seeed-Studio/Seeed_Arduino_UltrasonicRanger)\n"
   ]
  },
  {
   "cell_type": "markdown",
   "metadata": {
    "id": "VdojEWUEnS-q",
    "nbpages": {
     "level": 3,
     "link": "[2.4.3.2 Grove 4 Digit Display](https://jckantor.github.io/cbe-virtual-laboratory/02.04-Ultrasonic_Distance_Ranger.html#2.4.3.2-Grove-4-Digit-Display)",
     "section": "2.4.3.2 Grove 4 Digit Display"
    }
   },
   "source": [
    "### 2.4.3.2 Grove 4 Digit Display"
   ]
  },
  {
   "cell_type": "markdown",
   "metadata": {
    "id": "bnziRvWlyB--",
    "nbpages": {
     "level": 2,
     "link": "[2.4.4 Implementation](https://jckantor.github.io/cbe-virtual-laboratory/02.04-Ultrasonic_Distance_Ranger.html#2.4.4-Implementation)",
     "section": "2.4.4 Implementation"
    }
   },
   "source": [
    "## 2.4.4 Implementation"
   ]
  },
  {
   "cell_type": "markdown",
   "metadata": {
    "id": "4vZ1VcQRiylL",
    "nbpages": {
     "level": 3,
     "link": "[2.4.4.1 Create Project](https://jckantor.github.io/cbe-virtual-laboratory/02.04-Ultrasonic_Distance_Ranger.html#2.4.4.1-Create-Project)",
     "section": "2.4.4.1 Create Project"
    }
   },
   "source": [
    "### 2.4.4.1 Create Project"
   ]
  },
  {
   "cell_type": "code",
   "execution_count": 5,
   "metadata": {
    "colab": {
     "base_uri": "https://localhost:8080/",
     "height": 68
    },
    "executionInfo": {
     "elapsed": 904,
     "status": "ok",
     "timestamp": 1603559901516,
     "user": {
      "displayName": "Jeffrey Kantor",
      "photoUrl": "https://lh3.googleusercontent.com/a-/AOh14Gg_n8V7bVINy02QRuRgOoMo11Ri7NKU3OUKdC1bkQ=s64",
      "userId": "09038942003589296665"
     },
     "user_tz": 240
    },
    "id": "FaqbZcYwix06",
    "nbpages": {
     "level": 3,
     "link": "[2.4.4.1 Create Project](https://jckantor.github.io/cbe-virtual-laboratory/02.04-Ultrasonic_Distance_Ranger.html#2.4.4.1-Create-Project)",
     "section": "2.4.4.1 Create Project"
    },
    "outputId": "406665dd-05f3-406e-f2ae-176c1a4fb02f"
   },
   "outputs": [
    {
     "name": "stdout",
     "output_type": "stream",
     "text": [
      "Initializing project in directory myproject...\n",
      "> A new project has been initialized in directory myproject\n",
      "\n"
     ]
    }
   ],
   "source": [
    "print(particle([\"project\", \"create\", \"--name\", \"myproject\", \".\"]).stdout)"
   ]
  },
  {
   "cell_type": "markdown",
   "metadata": {
    "id": "tsSPugdDzEq2",
    "nbpages": {
     "level": 3,
     "link": "[2.4.4.2 Change working directory](https://jckantor.github.io/cbe-virtual-laboratory/02.04-Ultrasonic_Distance_Ranger.html#2.4.4.2-Change-working-directory)",
     "section": "2.4.4.2 Change working directory"
    }
   },
   "source": [
    "### 2.4.4.2 Change working directory\n",
    "\n",
    "The Particle CLI assumes one is working in the top  project directory."
   ]
  },
  {
   "cell_type": "code",
   "execution_count": 6,
   "metadata": {
    "colab": {
     "base_uri": "https://localhost:8080/",
     "height": 34
    },
    "executionInfo": {
     "elapsed": 568,
     "status": "ok",
     "timestamp": 1603559903185,
     "user": {
      "displayName": "Jeffrey Kantor",
      "photoUrl": "https://lh3.googleusercontent.com/a-/AOh14Gg_n8V7bVINy02QRuRgOoMo11Ri7NKU3OUKdC1bkQ=s64",
      "userId": "09038942003589296665"
     },
     "user_tz": 240
    },
    "id": "iNYJNUoaC2ye",
    "nbpages": {
     "level": 3,
     "link": "[2.4.4.2 Change working directory](https://jckantor.github.io/cbe-virtual-laboratory/02.04-Ultrasonic_Distance_Ranger.html#2.4.4.2-Change-working-directory)",
     "section": "2.4.4.2 Change working directory"
    },
    "outputId": "f56af693-a92d-4996-c77c-121501dcd49a"
   },
   "outputs": [
    {
     "name": "stdout",
     "output_type": "stream",
     "text": [
      "/content/myproject\n"
     ]
    }
   ],
   "source": [
    "%cd /content/myproject"
   ]
  },
  {
   "cell_type": "markdown",
   "metadata": {
    "id": "moVetAalRsLO",
    "nbpages": {
     "level": 3,
     "link": "[2.4.4.3 Add relevant libraries](https://jckantor.github.io/cbe-virtual-laboratory/02.04-Ultrasonic_Distance_Ranger.html#2.4.4.3-Add-relevant-libraries)",
     "section": "2.4.4.3 Add relevant libraries"
    }
   },
   "source": [
    "### 2.4.4.3 Add relevant libraries"
   ]
  },
  {
   "cell_type": "code",
   "execution_count": 11,
   "metadata": {
    "colab": {
     "base_uri": "https://localhost:8080/",
     "height": 85
    },
    "executionInfo": {
     "elapsed": 1285,
     "status": "ok",
     "timestamp": 1603560041398,
     "user": {
      "displayName": "Jeffrey Kantor",
      "photoUrl": "https://lh3.googleusercontent.com/a-/AOh14Gg_n8V7bVINy02QRuRgOoMo11Ri7NKU3OUKdC1bkQ=s64",
      "userId": "09038942003589296665"
     },
     "user_tz": 240
    },
    "id": "ouzDjgY9YNHL",
    "nbpages": {
     "level": 3,
     "link": "[2.4.4.3 Add relevant libraries](https://jckantor.github.io/cbe-virtual-laboratory/02.04-Ultrasonic_Distance_Ranger.html#2.4.4.3-Add-relevant-libraries)",
     "section": "2.4.4.3 Add relevant libraries"
    },
    "outputId": "b9f3b222-9806-4bd3-89b1-203ce47b4162"
   },
   "outputs": [
    {
     "name": "stdout",
     "output_type": "stream",
     "text": [
      "> Found 2 libraries matching Ultrasonic\n",
      "Grove-Ultrasonic-Ranger 1.0.2 16133 Particle Xenon library for controlling Grove Ultrasonic Ranger, using gennal I/O communication.\n",
      "PatriotUltrasonic 2.0.0 128 Extend Patriot IoT to support ultrasonic proximity detectors.\n",
      "\n"
     ]
    }
   ],
   "source": [
    "print(particle([\"library\", \"search\", \"Ultrasonic\"]).stdout)"
   ]
  },
  {
   "cell_type": "code",
   "execution_count": 30,
   "metadata": {
    "colab": {
     "base_uri": "https://localhost:8080/",
     "height": 136
    },
    "executionInfo": {
     "elapsed": 3169,
     "status": "ok",
     "timestamp": 1603561448095,
     "user": {
      "displayName": "Jeffrey Kantor",
      "photoUrl": "https://lh3.googleusercontent.com/a-/AOh14Gg_n8V7bVINy02QRuRgOoMo11Ri7NKU3OUKdC1bkQ=s64",
      "userId": "09038942003589296665"
     },
     "user_tz": 240
    },
    "id": "WebH24BzZ5Cn",
    "nbpages": {
     "level": 3,
     "link": "[2.4.4.3 Add relevant libraries](https://jckantor.github.io/cbe-virtual-laboratory/02.04-Ultrasonic_Distance_Ranger.html#2.4.4.3-Add-relevant-libraries)",
     "section": "2.4.4.3 Add relevant libraries"
    },
    "outputId": "67c5d39e-0c07-4d89-eb9b-0a64c6d376f4"
   },
   "outputs": [
    {
     "name": "stdout",
     "output_type": "stream",
     "text": [
      "Checking library Grove-Ultrasonic-Ranger...\n",
      "Installing library Grove-Ultrasonic-Ranger 1.0.2 to /content/myproject/lib/Grove-Ultrasonic-Ranger ...\n",
      "Library Grove-Ultrasonic-Ranger 1.0.2 installed.\n",
      "\n",
      "> Library Grove_4Digit_Display 1.0.2 has been added to the project.\n",
      "> To get started using this library, run particle library view Grove_4Digit_Display to view the library documentation and sources.\n",
      "\n"
     ]
    }
   ],
   "source": [
    "print(particle([\"library\", \"copy\", \"Grove-Ultrasonic-Ranger\"]).stdout)\n",
    "print(particle([\"library\", \"add\", \"Grove_4Digit_Display\"]).stdout)"
   ]
  },
  {
   "cell_type": "markdown",
   "metadata": {
    "id": "kYIAoD_jESIn",
    "nbpages": {
     "level": 3,
     "link": "[2.4.4.4 Create source file](https://jckantor.github.io/cbe-virtual-laboratory/02.04-Ultrasonic_Distance_Ranger.html#2.4.4.4-Create-source-file)",
     "section": "2.4.4.4 Create source file"
    }
   },
   "source": [
    "### 2.4.4.4 Create source file"
   ]
  },
  {
   "cell_type": "code",
   "execution_count": 39,
   "metadata": {
    "colab": {
     "base_uri": "https://localhost:8080/",
     "height": 34
    },
    "executionInfo": {
     "elapsed": 491,
     "status": "ok",
     "timestamp": 1603562127530,
     "user": {
      "displayName": "Jeffrey Kantor",
      "photoUrl": "https://lh3.googleusercontent.com/a-/AOh14Gg_n8V7bVINy02QRuRgOoMo11Ri7NKU3OUKdC1bkQ=s64",
      "userId": "09038942003589296665"
     },
     "user_tz": 240
    },
    "id": "uZJn2QkEmbuQ",
    "nbpages": {
     "level": 3,
     "link": "[2.4.4.4 Create source file](https://jckantor.github.io/cbe-virtual-laboratory/02.04-Ultrasonic_Distance_Ranger.html#2.4.4.4-Create-source-file)",
     "section": "2.4.4.4 Create source file"
    },
    "outputId": "95e6d353-35ae-4a38-a166-ba77c1130fd0"
   },
   "outputs": [
    {
     "name": "stdout",
     "output_type": "stream",
     "text": [
      "Overwriting src/myproject.ino\n"
     ]
    }
   ],
   "source": [
    "%%writefile src/myproject.ino\n",
    "\n",
    "/* pin assignments */\n",
    "#define PIN_CLK D2         /* display clock */\n",
    "#define PIN_DIO D3         /* display data */\n",
    "#define PIN_ULTRASONIC D4  /* ultrasonic ranger */\n",
    "\n",
    "/* display parameters */\n",
    "#define DIGITS 4   /* display digits */\n",
    "\n",
    "#include \"Grove-Ultrasonic-Ranger.h\"\n",
    "#include \"Grove_4Digit_Display.h\"\n",
    "\n",
    "/* hardware objects */\n",
    "Ultrasonic ultrasonic(PIN_ULTRASONIC);\n",
    "TM1637 tm1637(PIN_CLK, PIN_DIO);\n",
    "\n",
    "long int count =  0;\n",
    "\n",
    "void setup() {\n",
    "    /* setup display */\n",
    "    tm1637.init();\n",
    "    tm1637.set(BRIGHT_TYPICAL);\n",
    "    tm1637.point(POINT_OFF);\n",
    "}\n",
    "\n",
    "void loop() {\n",
    "    long RangeInCentimeters;\n",
    "    RangeInCentimeters = ultrasonic.MeasureInCentimeters();\n",
    "    display(RangeInCentimeters);\n",
    "    delay(100);\n",
    "}\n",
    "\n",
    "void display(unsigned int number) {\n",
    "    for (int i = 0; i < 4; i++) {\n",
    "        int digit = DIGITS - 1 - i;\n",
    "        tm1637.display(digit, number % 10);\n",
    "        number /= 10;\n",
    "    }\n",
    "}"
   ]
  },
  {
   "cell_type": "markdown",
   "metadata": {
    "id": "DgYoYrbMBg8y",
    "nbpages": {
     "level": 3,
     "link": "[2.4.4.5 Compiling](https://jckantor.github.io/cbe-virtual-laboratory/02.04-Ultrasonic_Distance_Ranger.html#2.4.4.5-Compiling)",
     "section": "2.4.4.5 Compiling"
    }
   },
   "source": [
    "### 2.4.4.5 Compiling"
   ]
  },
  {
   "cell_type": "code",
   "execution_count": 40,
   "metadata": {
    "colab": {
     "base_uri": "https://localhost:8080/",
     "height": 374
    },
    "executionInfo": {
     "elapsed": 8505,
     "status": "ok",
     "timestamp": 1603562136858,
     "user": {
      "displayName": "Jeffrey Kantor",
      "photoUrl": "https://lh3.googleusercontent.com/a-/AOh14Gg_n8V7bVINy02QRuRgOoMo11Ri7NKU3OUKdC1bkQ=s64",
      "userId": "09038942003589296665"
     },
     "user_tz": 240
    },
    "id": "D-yOOpbfA4U5",
    "nbpages": {
     "level": 3,
     "link": "[2.4.4.5 Compiling](https://jckantor.github.io/cbe-virtual-laboratory/02.04-Ultrasonic_Distance_Ranger.html#2.4.4.5-Compiling)",
     "section": "2.4.4.5 Compiling"
    },
    "outputId": "121afe3a-2102-4528-9d83-913715bd200c"
   },
   "outputs": [
    {
     "name": "stdout",
     "output_type": "stream",
     "text": [
      "\n",
      "Compiling code for argon\n",
      "\n",
      "Including:\n",
      "    lib/Grove-Ultrasonic-Ranger/src/Grove-Ultrasonic-Ranger.h\n",
      "    lib/Grove-Ultrasonic-Ranger/examples/UltraDisOnSeeedSerialLcd/UltraDisOnSeeedSerialLcd.ino\n",
      "    lib/Grove-Ultrasonic-Ranger/examples/UltrasonicDisplayOnTerm/UltrasonicDisplayOnTerm.ino\n",
      "    src/myproject.ino\n",
      "    lib/Grove-Ultrasonic-Ranger/src/Grove-Ultrasonic-Ranger.cpp\n",
      "    project.properties\n",
      "\n",
      "attempting to compile firmware\n",
      "downloading binary from: /v1/binaries/5f946a98d4bd443642666eab\n",
      "saving to: myproject.bin\n",
      "Memory use:\n",
      "   text\t   data\t    bss\t    dec\t    hex\tfilename\n",
      "   6412\t    108\t   1072\t   7592\t   1da8\t/workspace/target/workspace.elf\n",
      "\n",
      "Compile succeeded.\n",
      "Saved firmware to: /content/myproject/myproject.bin\n",
      "\n"
     ]
    }
   ],
   "source": [
    "print(particle([\"compile\", \"argon\", \"--saveTo\", \"myproject.bin\"]).stdout)"
   ]
  },
  {
   "cell_type": "markdown",
   "metadata": {
    "id": "b5e_lzC1FtHw",
    "nbpages": {
     "level": 3,
     "link": "[2.4.4.6 Flash firmware](https://jckantor.github.io/cbe-virtual-laboratory/02.04-Ultrasonic_Distance_Ranger.html#2.4.4.6-Flash-firmware)",
     "section": "2.4.4.6 Flash firmware"
    }
   },
   "source": [
    "### 2.4.4.6 Flash firmware"
   ]
  },
  {
   "cell_type": "code",
   "execution_count": 41,
   "metadata": {
    "colab": {
     "base_uri": "https://localhost:8080/",
     "height": 153
    },
    "executionInfo": {
     "elapsed": 1426,
     "status": "ok",
     "timestamp": 1603562140308,
     "user": {
      "displayName": "Jeffrey Kantor",
      "photoUrl": "https://lh3.googleusercontent.com/a-/AOh14Gg_n8V7bVINy02QRuRgOoMo11Ri7NKU3OUKdC1bkQ=s64",
      "userId": "09038942003589296665"
     },
     "user_tz": 240
    },
    "id": "TcUKDiWOsvt1",
    "nbpages": {
     "level": 3,
     "link": "[2.4.4.6 Flash firmware](https://jckantor.github.io/cbe-virtual-laboratory/02.04-Ultrasonic_Distance_Ranger.html#2.4.4.6-Flash-firmware)",
     "section": "2.4.4.6 Flash firmware"
    },
    "outputId": "3c6eafb3-5a73-4c25-ee14-d4e46ab8e546"
   },
   "outputs": [
    {
     "name": "stdout",
     "output_type": "stream",
     "text": [
      "Including:\n",
      "    myproject.bin\n",
      "\n",
      "attempting to flash firmware to your device jck_argon_01\n",
      "Flash device OK: Update started\n",
      "\n",
      "Flash success!\n",
      "\n"
     ]
    }
   ],
   "source": [
    "print(particle([\"flash\", device_name, \"myproject.bin\"]).stdout)"
   ]
  },
  {
   "cell_type": "code",
   "execution_count": null,
   "metadata": {
    "id": "o31-7mKw0gVn",
    "nbpages": {
     "level": 3,
     "link": "[2.4.4.6 Flash firmware](https://jckantor.github.io/cbe-virtual-laboratory/02.04-Ultrasonic_Distance_Ranger.html#2.4.4.6-Flash-firmware)",
     "section": "2.4.4.6 Flash firmware"
    }
   },
   "outputs": [],
   "source": []
  },
  {
   "cell_type": "markdown",
   "metadata": {},
   "source": [
    "<!--NAVIGATION-->\n",
    "< [2.3 Particle Command Line Interface (CLI)](https://jckantor.github.io/cbe-virtual-laboratory/02.03-Particle-CLI.html) | [Contents](toc.html) | [2.5 Simple Stop Watch using Interrupts](https://jckantor.github.io/cbe-virtual-laboratory/02.05-Simple_Stop_Watch_using_Interrupts.html) ><p><a href=\"https://colab.research.google.com/github/jckantor/cbe-virtual-laboratory/blob/master/docs/02.04-Ultrasonic_Distance_Ranger.ipynb\"> <img align=\"left\" src=\"https://colab.research.google.com/assets/colab-badge.svg\" alt=\"Open in Colab\" title=\"Open in Google Colaboratory\"></a><p><a href=\"https://jckantor.github.io/cbe-virtual-laboratory/02.04-Ultrasonic_Distance_Ranger.ipynb\"> <img align=\"left\" src=\"https://img.shields.io/badge/Github-Download-blue.svg\" alt=\"Download\" title=\"Download Notebook\"></a>"
   ]
  }
 ],
 "metadata": {
  "colab": {
   "collapsed_sections": [],
   "name": "02.04-Ultrasonic_Distance_Ranger.ipynb",
   "provenance": [
    {
     "file_id": "https://github.com/jckantor/cbe-virtual-laboratory/blob/main/notebooks/02.04-Simple-Stop-Watch.ipynb",
     "timestamp": 1603325027025
    }
   ],
   "toc_visible": true
  },
  "kernelspec": {
   "display_name": "Python 3",
   "language": "python",
   "name": "python3"
  },
  "language_info": {
   "codemirror_mode": {
    "name": "ipython",
    "version": 3
   },
   "file_extension": ".py",
   "mimetype": "text/x-python",
   "name": "python",
   "nbconvert_exporter": "python",
   "pygments_lexer": "ipython3",
   "version": "3.7.4"
  }
 },
 "nbformat": 4,
 "nbformat_minor": 0
}
