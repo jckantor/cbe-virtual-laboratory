{
 "cells": [
  {
   "cell_type": "markdown",
   "metadata": {},
   "source": [
    "<!--NOTEBOOK_HEADER-->\n",
    "*This notebook contains material from [cbe-virtual-laboratory](https://jckantor.github.io/cbe-virtual-laboratory);\n",
    "content is available [on Github](https://github.com/jckantor/cbe-virtual-laboratory.git).*\n"
   ]
  },
  {
   "cell_type": "markdown",
   "metadata": {},
   "source": [
    "<!--NAVIGATION-->\n",
    "< [1.0 CBE Virtual Laboratory](https://jckantor.github.io/cbe-virtual-laboratory/01.00-CBE_Virtual_Laboratory.html) | [Contents](toc.html) | [2.0 Proof of Concept](https://jckantor.github.io/cbe-virtual-laboratory/02.00-Proof_of_Concept.html) ><p><a href=\"https://colab.research.google.com/github/jckantor/cbe-virtual-laboratory/blob/master/docs/01.02-MQTT.ipynb\"> <img align=\"left\" src=\"https://colab.research.google.com/assets/colab-badge.svg\" alt=\"Open in Colab\" title=\"Open in Google Colaboratory\"></a><p><a href=\"https://jckantor.github.io/cbe-virtual-laboratory/01.02-MQTT.ipynb\"> <img align=\"left\" src=\"https://img.shields.io/badge/Github-Download-blue.svg\" alt=\"Download\" title=\"Download Notebook\"></a>"
   ]
  },
  {
   "cell_type": "markdown",
   "metadata": {
    "nbpages": {
     "level": 1,
     "link": "[1.2 MQTT](https://jckantor.github.io/cbe-virtual-laboratory/01.02-MQTT.html#1.2-MQTT)",
     "section": "1.2 MQTT"
    }
   },
   "source": [
    "# 1.2 MQTT\n",
    "\n",
    "MQTT is a lightweight protocol for delivering messages between devices through an intermediate broker. Senders declare a 'topic' and 'publish' messages to the broker. Receivers 'subscribe' to particular topics on the broker to receive a copy of all messages pertaining to that topic. Connections between a device and broker are typically over a TCP/IP network, but other transport mediums are in common use. This robust and flexible 'hub-and-spoke' architecture has been widely adopted for 'Internet of Things' (IoT) applications.\n",
    "\n",
    "The MQTT acronym was orginally an abbreviation for Message Queuing Telemetry Transport that was developed by individuals at IBM and Cirrus Link (later Eurotech) for monitoring pipeline by satellite in remote locations. IBM later submitted the protocol to the global standards body, OASIS and ISO, where they are now maintained as open standards."
   ]
  },
  {
   "cell_type": "markdown",
   "metadata": {
    "nbpages": {
     "level": 2,
     "link": "[1.2.1 Background](https://jckantor.github.io/cbe-virtual-laboratory/01.02-MQTT.html#1.2.1-Background)",
     "section": "1.2.1 Background"
    }
   },
   "source": [
    "## 1.2.1 Background\n",
    "\n",
    "Descriptions\n",
    "\n",
    "* [MQTT.org](MQTT.org)\n",
    "\n",
    "Primers and Tutorials\n",
    "\n",
    "* mqtt primer: https://www.youtube.com/watch?v=AxC_ykketIg&ab_channel=wcltalkstech\n",
    "* HiveMQ MQTT Essentials: https://www.hivemq.com/tags/mqtt-essentials/\n",
    "\n",
    "* [Using MQTT to send and receive data for your next project](https://opensource.com/article/18/6/mqtt)\n",
    "\n",
    "MQTT for Process Applications\n",
    "\n",
    "* [How MQTT is advancing automation and control](https://www.flowcontrolnetwork.com/process-control-automation/article/21122615/how-mqtt-is-advancing-automation-and-control)\n",
    "\n",
    "* [MQTT, open SCADA publish/subscribe protocol is getting what it needs to go industrial](https://www.controlglobal.com/articles/2019/mqtt-open-scada-publishsubscribe-protocol-is-getting-what-it-needs-to-go-industrial/)\n",
    "\n",
    "Bidirectional Messaging\n",
    "\n",
    "* [Two Way communication Using MQTT and Python](http://www.steves-internet-guide.com/two-way-communication-mqtt-python/)\n",
    "\n"
   ]
  },
  {
   "cell_type": "markdown",
   "metadata": {
    "nbpages": {
     "level": 2,
     "link": "[1.2.2 Implementation for CBE-Virtual-Laboratory](https://jckantor.github.io/cbe-virtual-laboratory/01.02-MQTT.html#1.2.2-Implementation-for-CBE-Virtual-Laboratory)",
     "section": "1.2.2 Implementation for CBE-Virtual-Laboratory"
    }
   },
   "source": [
    "## 1.2.2 Implementation for CBE-Virtual-Laboratory"
   ]
  },
  {
   "cell_type": "markdown",
   "metadata": {
    "nbpages": {
     "level": 2,
     "link": "[1.2.2 Implementation for CBE-Virtual-Laboratory](https://jckantor.github.io/cbe-virtual-laboratory/01.02-MQTT.html#1.2.2-Implementation-for-CBE-Virtual-Laboratory)",
     "section": "1.2.2 Implementation for CBE-Virtual-Laboratory"
    }
   },
   "source": [
    "For the purposes of the CBE-Virtual-Laboratory, we propose a topic naming scheme that will enable bidirectional communication between devices, and provide for the setup and tear down of applications and connections.  \n",
    "\n",
    "* The highest level to the topic is assigned `cbe-virtual-laboratory`.  \n",
    "* The second level designates the laboratory application. This may consist of one or more topic strings designating, for example, a location and application.\n",
    "* The third level designates a device\n",
    "* The fourth level designates a channel\n",
    "    * command\n",
    "    * send\n",
    "    * receive\n",
    "    \n",
    "   \n",
    "\n",
    "\n",
    "    cbe-virtual-laboratory/APPLICATION/DEVICE/CHANNEL"
   ]
  },
  {
   "cell_type": "code",
   "execution_count": null,
   "metadata": {
    "nbpages": {
     "level": 2,
     "link": "[1.2.2 Implementation for CBE-Virtual-Laboratory](https://jckantor.github.io/cbe-virtual-laboratory/01.02-MQTT.html#1.2.2-Implementation-for-CBE-Virtual-Laboratory)",
     "section": "1.2.2 Implementation for CBE-Virtual-Laboratory"
    }
   },
   "outputs": [],
   "source": []
  },
  {
   "cell_type": "markdown",
   "metadata": {},
   "source": [
    "<!--NAVIGATION-->\n",
    "< [1.0 CBE Virtual Laboratory](https://jckantor.github.io/cbe-virtual-laboratory/01.00-CBE_Virtual_Laboratory.html) | [Contents](toc.html) | [2.0 Proof of Concept](https://jckantor.github.io/cbe-virtual-laboratory/02.00-Proof_of_Concept.html) ><p><a href=\"https://colab.research.google.com/github/jckantor/cbe-virtual-laboratory/blob/master/docs/01.02-MQTT.ipynb\"> <img align=\"left\" src=\"https://colab.research.google.com/assets/colab-badge.svg\" alt=\"Open in Colab\" title=\"Open in Google Colaboratory\"></a><p><a href=\"https://jckantor.github.io/cbe-virtual-laboratory/01.02-MQTT.ipynb\"> <img align=\"left\" src=\"https://img.shields.io/badge/Github-Download-blue.svg\" alt=\"Download\" title=\"Download Notebook\"></a>"
   ]
  }
 ],
 "metadata": {
  "kernelspec": {
   "display_name": "Python 3",
   "language": "python",
   "name": "python3"
  },
  "language_info": {
   "codemirror_mode": {
    "name": "ipython",
    "version": 3
   },
   "file_extension": ".py",
   "mimetype": "text/x-python",
   "name": "python",
   "nbconvert_exporter": "python",
   "pygments_lexer": "ipython3",
   "version": "3.7.4"
  }
 },
 "nbformat": 4,
 "nbformat_minor": 4
}
