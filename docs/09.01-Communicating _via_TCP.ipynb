{
 "cells": [
  {
   "cell_type": "markdown",
   "metadata": {},
   "source": [
    "<!--NOTEBOOK_HEADER-->\n",
    "*This notebook contains material from [cbe-virtual-laboratory](https://jckantor.github.io/cbe-virtual-laboratory);\n",
    "content is available [on Github](https://github.com/jckantor/cbe-virtual-laboratory.git).*\n"
   ]
  },
  {
   "cell_type": "markdown",
   "metadata": {},
   "source": [
    "<!--NAVIGATION-->\n",
    "< [9.0 Interfacing with Laboratory Equipment](https://jckantor.github.io/cbe-virtual-laboratory/09.00-Interfacing_with_Laboratory_Equipment.html) | [Contents](toc.html) | [9.2 Stepper Motor Control via I2C](https://jckantor.github.io/cbe-virtual-laboratory/09.02-Stepper_Motor_Control_via_I2C.html) ><p><a href=\"https://colab.research.google.com/github/jckantor/cbe-virtual-laboratory/blob/master/docs/09.01-Communicating _via_TCP.ipynb\"> <img align=\"left\" src=\"https://colab.research.google.com/assets/colab-badge.svg\" alt=\"Open in Colab\" title=\"Open in Google Colaboratory\"></a><p><a href=\"https://jckantor.github.io/cbe-virtual-laboratory/09.01-Communicating _via_TCP.ipynb\"> <img align=\"left\" src=\"https://img.shields.io/badge/Github-Download-blue.svg\" alt=\"Download\" title=\"Download Notebook\"></a>"
   ]
  },
  {
   "cell_type": "markdown",
   "metadata": {
    "id": "2eIn0fxRERLC",
    "nbpages": {
     "level": 1,
     "link": "[9.1 Communicating via TCP](https://jckantor.github.io/cbe-virtual-laboratory/09.01-Communicating _via_TCP.html#9.1-Communicating-via-TCP)",
     "section": "9.1 Communicating via TCP"
    }
   },
   "source": [
    "# 9.1 Communicating via TCP\n",
    "\n",
    "This notebook shows how to implement a TCP Server on Particle Argon and communicate with the server from a laptop using a ``netcat`` utility."
   ]
  },
  {
   "cell_type": "markdown",
   "metadata": {
    "id": "aMCK4cZkEZ_3",
    "nbpages": {
     "level": 2,
     "link": "[9.1.1 Particle CLI](https://jckantor.github.io/cbe-virtual-laboratory/09.01-Communicating _via_TCP.html#9.1.1-Particle-CLI)",
     "section": "9.1.1 Particle CLI"
    }
   },
   "source": [
    "## 9.1.1 Particle CLI"
   ]
  },
  {
   "cell_type": "markdown",
   "metadata": {
    "id": "I8T4ooaP_Th3",
    "nbpages": {
     "level": 3,
     "link": "[9.1.1.1 Installation](https://jckantor.github.io/cbe-virtual-laboratory/09.01-Communicating _via_TCP.html#9.1.1.1-Installation)",
     "section": "9.1.1.1 Installation"
    }
   },
   "source": [
    "### 9.1.1.1 Installation"
   ]
  },
  {
   "cell_type": "code",
   "execution_count": 3,
   "metadata": {
    "executionInfo": {
     "elapsed": 3676,
     "status": "ok",
     "timestamp": 1603672835514,
     "user": {
      "displayName": "Jeffrey Kantor",
      "photoUrl": "https://lh3.googleusercontent.com/a-/AOh14Gg_n8V7bVINy02QRuRgOoMo11Ri7NKU3OUKdC1bkQ=s64",
      "userId": "09038942003589296665"
     },
     "user_tz": 240
    },
    "id": "U9qOi8Rdyzwx",
    "nbpages": {
     "level": 3,
     "link": "[9.1.1.1 Installation](https://jckantor.github.io/cbe-virtual-laboratory/09.01-Communicating _via_TCP.html#9.1.1.1-Installation)",
     "section": "9.1.1.1 Installation"
    }
   },
   "outputs": [],
   "source": [
    "%%capture\n",
    "!bash <( curl -sL https://particle.io/install-cli )"
   ]
  },
  {
   "cell_type": "markdown",
   "metadata": {
    "id": "X21Hmxnb_J8B",
    "nbpages": {
     "level": 3,
     "link": "[9.1.1.2 Utility functions](https://jckantor.github.io/cbe-virtual-laboratory/09.01-Communicating _via_TCP.html#9.1.1.2-Utility-functions)",
     "section": "9.1.1.2 Utility functions"
    }
   },
   "source": [
    "### 9.1.1.2 Utility functions"
   ]
  },
  {
   "cell_type": "code",
   "execution_count": 4,
   "metadata": {
    "executionInfo": {
     "elapsed": 495,
     "status": "ok",
     "timestamp": 1603672852930,
     "user": {
      "displayName": "Jeffrey Kantor",
      "photoUrl": "https://lh3.googleusercontent.com/a-/AOh14Gg_n8V7bVINy02QRuRgOoMo11Ri7NKU3OUKdC1bkQ=s64",
      "userId": "09038942003589296665"
     },
     "user_tz": 240
    },
    "id": "IVNRmKaglmkp",
    "nbpages": {
     "level": 3,
     "link": "[9.1.1.2 Utility functions](https://jckantor.github.io/cbe-virtual-laboratory/09.01-Communicating _via_TCP.html#9.1.1.2-Utility-functions)",
     "section": "9.1.1.2 Utility functions"
    }
   },
   "outputs": [],
   "source": [
    "import re\n",
    "import subprocess\n",
    "\n",
    "# regular expression to strip ansi control characters\n",
    "ansi = re.compile(r'\\x1B(?:[@-Z\\\\-_]|\\[[0-?]*[ -/]*[@-~])')\n",
    "\n",
    "# decode byte string and strip ansi control characters\n",
    "def decode_bytes(byte_string):\n",
    "    if isinstance(byte_string, bytes):\n",
    "        result = byte_string.decode(\"utf-8\")\n",
    "    return ansi.sub(\"\", result)\n",
    "\n",
    "# streamline call to the particle-cli\n",
    "def particle(args, particle_cli=\"/root/bin/particle\"):\n",
    "    process = subprocess.run([particle_cli] + args,\n",
    "                             stdout=subprocess.PIPE,\n",
    "                             stderr=subprocess.PIPE)\n",
    "    process.stdout = decode_bytes(process.stdout)\n",
    "    process.stderr = decode_bytes(process.stderr)\n",
    "    return process"
   ]
  },
  {
   "cell_type": "markdown",
   "metadata": {
    "id": "RyR318S-FEOT",
    "nbpages": {
     "level": 3,
     "link": "[9.1.1.3 Login to Particle](https://jckantor.github.io/cbe-virtual-laboratory/09.01-Communicating _via_TCP.html#9.1.1.3-Login-to-Particle)",
     "section": "9.1.1.3 Login to Particle"
    }
   },
   "source": [
    "### 9.1.1.3 Login to Particle"
   ]
  },
  {
   "cell_type": "code",
   "execution_count": 6,
   "metadata": {
    "colab": {
     "base_uri": "https://localhost:8080/",
     "height": 85
    },
    "executionInfo": {
     "elapsed": 12085,
     "status": "ok",
     "timestamp": 1603672877623,
     "user": {
      "displayName": "Jeffrey Kantor",
      "photoUrl": "https://lh3.googleusercontent.com/a-/AOh14Gg_n8V7bVINy02QRuRgOoMo11Ri7NKU3OUKdC1bkQ=s64",
      "userId": "09038942003589296665"
     },
     "user_tz": 240
    },
    "id": "1CMV13RsYAR9",
    "nbpages": {
     "level": 3,
     "link": "[9.1.1.3 Login to Particle](https://jckantor.github.io/cbe-virtual-laboratory/09.01-Communicating _via_TCP.html#9.1.1.3-Login-to-Particle)",
     "section": "9.1.1.3 Login to Particle"
    },
    "outputId": "3ab2b7bb-42c9-4e91-b7e3-6fabf969e293"
   },
   "outputs": [
    {
     "name": "stdout",
     "output_type": "stream",
     "text": [
      "Username: ··········\n",
      "Password: ··········\n",
      "> Successfully completed login!\n",
      "\n"
     ]
    }
   ],
   "source": [
    "import getpass\n",
    "\n",
    "# prompt for username and password\n",
    "username = getpass.getpass(prompt=\"Username: \")\n",
    "password = getpass.getpass(prompt=\"Password: \")\n",
    "\n",
    "# attempt login\n",
    "output = particle([\"login\", \"--username\", username, \"--password\", password])\n",
    "\n",
    "# report results\n",
    "if output.returncode:\n",
    "    print(f\"Return code = {output.returncode}\")\n",
    "    print(output.stderr)\n",
    "else:\n",
    "    print(output.stdout)"
   ]
  },
  {
   "cell_type": "markdown",
   "metadata": {
    "id": "xkUuoM-ZmGVb",
    "nbpages": {
     "level": 3,
     "link": "[9.1.1.4 Select a device](https://jckantor.github.io/cbe-virtual-laboratory/09.01-Communicating _via_TCP.html#9.1.1.4-Select-a-device)",
     "section": "9.1.1.4 Select a device"
    }
   },
   "source": [
    "### 9.1.1.4 Select a device\n",
    "\n",
    "The following cell downloads a list of all user devices and creates a list of device names. Here we choose the first name in the list for the rest of this notebook. If this is not the device to be used, then modify this cell accordingly."
   ]
  },
  {
   "cell_type": "code",
   "execution_count": 7,
   "metadata": {
    "colab": {
     "base_uri": "https://localhost:8080/",
     "height": 51
    },
    "executionInfo": {
     "elapsed": 3104,
     "status": "ok",
     "timestamp": 1603672885482,
     "user": {
      "displayName": "Jeffrey Kantor",
      "photoUrl": "https://lh3.googleusercontent.com/a-/AOh14Gg_n8V7bVINy02QRuRgOoMo11Ri7NKU3OUKdC1bkQ=s64",
      "userId": "09038942003589296665"
     },
     "user_tz": 240
    },
    "id": "leGyaNy4mMtX",
    "nbpages": {
     "level": 3,
     "link": "[9.1.1.4 Select a device](https://jckantor.github.io/cbe-virtual-laboratory/09.01-Communicating _via_TCP.html#9.1.1.4-Select-a-device)",
     "section": "9.1.1.4 Select a device"
    },
    "outputId": "cfb4494d-df29-495b-910a-d65cbdf73b87"
   },
   "outputs": [
    {
     "name": "stdout",
     "output_type": "stream",
     "text": [
      "jck_argon_01 [e00fce68eaceb1faa7cf7193] (Argon) is online\n",
      "\n"
     ]
    }
   ],
   "source": [
    "devices = [line.split()[0] for line in particle([\"list\"]).stdout.splitlines()]\n",
    "device_name = devices[0]\n",
    "print(particle([\"list\", device_name]).stdout)"
   ]
  },
  {
   "cell_type": "markdown",
   "metadata": {
    "id": "peWv99hinM1O",
    "nbpages": {
     "level": 2,
     "link": "[9.1.2 Project Considerations](https://jckantor.github.io/cbe-virtual-laboratory/09.01-Communicating _via_TCP.html#9.1.2-Project-Considerations)",
     "section": "9.1.2 Project Considerations"
    }
   },
   "source": [
    "## 9.1.2 Project Considerations\n"
   ]
  },
  {
   "cell_type": "markdown",
   "metadata": {
    "id": "bnziRvWlyB--",
    "nbpages": {
     "level": 2,
     "link": "[9.1.3 Implementation](https://jckantor.github.io/cbe-virtual-laboratory/09.01-Communicating _via_TCP.html#9.1.3-Implementation)",
     "section": "9.1.3 Implementation"
    }
   },
   "source": [
    "## 9.1.3 Implementation\n",
    "\n",
    "MacOS\n",
    "\n",
    "    nc -4 -n 192.168.xxx.xxx pppp"
   ]
  },
  {
   "cell_type": "markdown",
   "metadata": {
    "id": "4vZ1VcQRiylL",
    "nbpages": {
     "level": 3,
     "link": "[9.1.3.1 Create Project](https://jckantor.github.io/cbe-virtual-laboratory/09.01-Communicating _via_TCP.html#9.1.3.1-Create-Project)",
     "section": "9.1.3.1 Create Project"
    }
   },
   "source": [
    "### 9.1.3.1 Create Project"
   ]
  },
  {
   "cell_type": "code",
   "execution_count": 8,
   "metadata": {
    "colab": {
     "base_uri": "https://localhost:8080/",
     "height": 68
    },
    "executionInfo": {
     "elapsed": 985,
     "status": "ok",
     "timestamp": 1603672887151,
     "user": {
      "displayName": "Jeffrey Kantor",
      "photoUrl": "https://lh3.googleusercontent.com/a-/AOh14Gg_n8V7bVINy02QRuRgOoMo11Ri7NKU3OUKdC1bkQ=s64",
      "userId": "09038942003589296665"
     },
     "user_tz": 240
    },
    "id": "FaqbZcYwix06",
    "nbpages": {
     "level": 3,
     "link": "[9.1.3.1 Create Project](https://jckantor.github.io/cbe-virtual-laboratory/09.01-Communicating _via_TCP.html#9.1.3.1-Create-Project)",
     "section": "9.1.3.1 Create Project"
    },
    "outputId": "c52b2caf-0166-4bf1-a051-6b07874780b2"
   },
   "outputs": [
    {
     "name": "stdout",
     "output_type": "stream",
     "text": [
      "Initializing project in directory myproject...\n",
      "> A new project has been initialized in directory myproject\n",
      "\n"
     ]
    }
   ],
   "source": [
    "print(particle([\"project\", \"create\", \"--name\", \"myproject\", \".\"]).stdout)"
   ]
  },
  {
   "cell_type": "markdown",
   "metadata": {
    "id": "tsSPugdDzEq2",
    "nbpages": {
     "level": 3,
     "link": "[9.1.3.2 Change working directory](https://jckantor.github.io/cbe-virtual-laboratory/09.01-Communicating _via_TCP.html#9.1.3.2-Change-working-directory)",
     "section": "9.1.3.2 Change working directory"
    }
   },
   "source": [
    "### 9.1.3.2 Change working directory\n",
    "\n",
    "The Particle CLI assumes one is working in the top  project directory."
   ]
  },
  {
   "cell_type": "code",
   "execution_count": 9,
   "metadata": {
    "colab": {
     "base_uri": "https://localhost:8080/",
     "height": 34
    },
    "executionInfo": {
     "elapsed": 782,
     "status": "ok",
     "timestamp": 1603672888676,
     "user": {
      "displayName": "Jeffrey Kantor",
      "photoUrl": "https://lh3.googleusercontent.com/a-/AOh14Gg_n8V7bVINy02QRuRgOoMo11Ri7NKU3OUKdC1bkQ=s64",
      "userId": "09038942003589296665"
     },
     "user_tz": 240
    },
    "id": "iNYJNUoaC2ye",
    "nbpages": {
     "level": 3,
     "link": "[9.1.3.2 Change working directory](https://jckantor.github.io/cbe-virtual-laboratory/09.01-Communicating _via_TCP.html#9.1.3.2-Change-working-directory)",
     "section": "9.1.3.2 Change working directory"
    },
    "outputId": "127ee849-628a-4c2b-c2de-a59955156dbe"
   },
   "outputs": [
    {
     "name": "stdout",
     "output_type": "stream",
     "text": [
      "/content/myproject\n"
     ]
    }
   ],
   "source": [
    "%cd /content/myproject"
   ]
  },
  {
   "cell_type": "markdown",
   "metadata": {
    "id": "kYIAoD_jESIn",
    "nbpages": {
     "level": 3,
     "link": "[9.1.3.3 Create source file](https://jckantor.github.io/cbe-virtual-laboratory/09.01-Communicating _via_TCP.html#9.1.3.3-Create-source-file)",
     "section": "9.1.3.3 Create source file"
    }
   },
   "source": [
    "### 9.1.3.3 Create source file"
   ]
  },
  {
   "cell_type": "code",
   "execution_count": 17,
   "metadata": {
    "colab": {
     "base_uri": "https://localhost:8080/",
     "height": 34
    },
    "executionInfo": {
     "elapsed": 523,
     "status": "ok",
     "timestamp": 1603678726557,
     "user": {
      "displayName": "Jeffrey Kantor",
      "photoUrl": "https://lh3.googleusercontent.com/a-/AOh14Gg_n8V7bVINy02QRuRgOoMo11Ri7NKU3OUKdC1bkQ=s64",
      "userId": "09038942003589296665"
     },
     "user_tz": 240
    },
    "id": "uZJn2QkEmbuQ",
    "nbpages": {
     "level": 3,
     "link": "[9.1.3.3 Create source file](https://jckantor.github.io/cbe-virtual-laboratory/09.01-Communicating _via_TCP.html#9.1.3.3-Create-source-file)",
     "section": "9.1.3.3 Create source file"
    },
    "outputId": "7bc19bda-3fea-4947-e5b9-0ca50b051835"
   },
   "outputs": [
    {
     "name": "stdout",
     "output_type": "stream",
     "text": [
      "Overwriting src/myproject.ino\n"
     ]
    }
   ],
   "source": [
    "%%writefile src/myproject.ino\n",
    "\n",
    "/* \n",
    "Demonstrate bidirectional communication with Particle using TCPServer and\n",
    "client. After flashing this firmware, check the Particle console for the local\n",
    "IP address. Connect to the local IP address using netcat\n",
    "\n",
    "    nc -4 -n 192.168.xxx.xxx 23\n",
    "\n",
    "Type H and L will turn the on-board LED on and off.\n",
    "*/\n",
    "\n",
    "TCPServer server = TCPServer(23);\n",
    "TCPClient client;\n",
    "\n",
    "const int led = D7;\n",
    "long int timeout;\n",
    "char c;\n",
    "\n",
    "void setup() {\n",
    "    server.begin();\n",
    "    Particle.publish(\"Server IP\", WiFi.localIP().toString().c_str(), PRIVATE);\n",
    "    pinMode(led, OUTPUT);\n",
    "    timeout = millis();\n",
    "}\n",
    "\n",
    "void loop() {\n",
    "    char c;\n",
    "    long int begin;\n",
    "    if (millis() <= timeout) {\n",
    "        digitalWrite(led, HIGH);\n",
    "    } else {\n",
    "        digitalWrite(led, LOW);\n",
    "    }\n",
    "    if (client.connected()) {\n",
    "        while (client.available()) {\n",
    "            /* get next char */\n",
    "            c = client.read();\n",
    "            if ('H' == c) {\n",
    "                server.print(\"Turn LED on.\");\n",
    "                timeout = millis() + 5000;\n",
    "            } else if ('L' == c) {\n",
    "                server.print(\"Turn LED off.\");\n",
    "                timeout = millis();\n",
    "            } else if ('S' == c) {\n",
    "                if (digitalRead(led)) {\n",
    "                    server.print(\"LED is on.\");\n",
    "                } else {\n",
    "                    server.print(\"LED is off.\");\n",
    "                }\n",
    "            } else if ('X' == c) {\n",
    "                server.print(\"Close client connection.\");\n",
    "                client.stop();\n",
    "            } else {\n",
    "                server.write(c);\n",
    "            }\n",
    "        }\n",
    "    } else {\n",
    "        /* get next client */\n",
    "        client = server.available();\n",
    "        if (client.connected()) {\n",
    "            server.println(\"Enter: \");\n",
    "            server.println(\"   H to turn LED on for 5 seconds\");\n",
    "            server.println(\"   L to turn LED off\");\n",
    "            server.println(\"   S for LED status\");\n",
    "            server.println(\"   X to close client connection\");\n",
    "        }\n",
    "    }\n",
    "}\n"
   ]
  },
  {
   "cell_type": "markdown",
   "metadata": {
    "id": "DgYoYrbMBg8y",
    "nbpages": {
     "level": 3,
     "link": "[9.1.3.4 Compiling](https://jckantor.github.io/cbe-virtual-laboratory/09.01-Communicating _via_TCP.html#9.1.3.4-Compiling)",
     "section": "9.1.3.4 Compiling"
    }
   },
   "source": [
    "### 9.1.3.4 Compiling"
   ]
  },
  {
   "cell_type": "code",
   "execution_count": 18,
   "metadata": {
    "colab": {
     "base_uri": "https://localhost:8080/",
     "height": 306
    },
    "executionInfo": {
     "elapsed": 7357,
     "status": "ok",
     "timestamp": 1603678734424,
     "user": {
      "displayName": "Jeffrey Kantor",
      "photoUrl": "https://lh3.googleusercontent.com/a-/AOh14Gg_n8V7bVINy02QRuRgOoMo11Ri7NKU3OUKdC1bkQ=s64",
      "userId": "09038942003589296665"
     },
     "user_tz": 240
    },
    "id": "D-yOOpbfA4U5",
    "nbpages": {
     "level": 3,
     "link": "[9.1.3.4 Compiling](https://jckantor.github.io/cbe-virtual-laboratory/09.01-Communicating _via_TCP.html#9.1.3.4-Compiling)",
     "section": "9.1.3.4 Compiling"
    },
    "outputId": "20ea92cc-87b8-41fa-92b3-85a69aecbf91"
   },
   "outputs": [
    {
     "name": "stdout",
     "output_type": "stream",
     "text": [
      "\n",
      "Compiling code for argon\n",
      "\n",
      "Including:\n",
      "    src/myproject.ino\n",
      "    project.properties\n",
      "\n",
      "attempting to compile firmware\n",
      "downloading binary from: /v1/binaries/5f96320dabefb3f6e1cb1a33\n",
      "saving to: myproject.bin\n",
      "Memory use:\n",
      "   text\t   data\t    bss\t    dec\t    hex\tfilename\n",
      "  11724\t    108\t   1148\t  12980\t   32b4\t/workspace/target/workspace.elf\n",
      "\n",
      "Compile succeeded.\n",
      "Saved firmware to: /content/myproject/myproject.bin\n",
      "\n"
     ]
    }
   ],
   "source": [
    "print(particle([\"compile\", \"argon\", \"--saveTo\", \"myproject.bin\"]).stdout)"
   ]
  },
  {
   "cell_type": "markdown",
   "metadata": {
    "id": "b5e_lzC1FtHw",
    "nbpages": {
     "level": 3,
     "link": "[9.1.3.5 Flash firmware](https://jckantor.github.io/cbe-virtual-laboratory/09.01-Communicating _via_TCP.html#9.1.3.5-Flash-firmware)",
     "section": "9.1.3.5 Flash firmware"
    }
   },
   "source": [
    "### 9.1.3.5 Flash firmware"
   ]
  },
  {
   "cell_type": "code",
   "execution_count": 19,
   "metadata": {
    "colab": {
     "base_uri": "https://localhost:8080/",
     "height": 153
    },
    "executionInfo": {
     "elapsed": 1583,
     "status": "ok",
     "timestamp": 1603678738794,
     "user": {
      "displayName": "Jeffrey Kantor",
      "photoUrl": "https://lh3.googleusercontent.com/a-/AOh14Gg_n8V7bVINy02QRuRgOoMo11Ri7NKU3OUKdC1bkQ=s64",
      "userId": "09038942003589296665"
     },
     "user_tz": 240
    },
    "id": "TcUKDiWOsvt1",
    "nbpages": {
     "level": 3,
     "link": "[9.1.3.5 Flash firmware](https://jckantor.github.io/cbe-virtual-laboratory/09.01-Communicating _via_TCP.html#9.1.3.5-Flash-firmware)",
     "section": "9.1.3.5 Flash firmware"
    },
    "outputId": "0c9ae3c4-f30b-4b71-bd3a-e7dab457a016"
   },
   "outputs": [
    {
     "name": "stdout",
     "output_type": "stream",
     "text": [
      "Including:\n",
      "    myproject.bin\n",
      "\n",
      "attempting to flash firmware to your device jck_argon_01\n",
      "Flash device OK: Update started\n",
      "\n",
      "Flash success!\n",
      "\n"
     ]
    }
   ],
   "source": [
    "print(particle([\"flash\", device_name, \"myproject.bin\"]).stdout)"
   ]
  },
  {
   "cell_type": "code",
   "execution_count": null,
   "metadata": {
    "id": "o31-7mKw0gVn",
    "nbpages": {
     "level": 3,
     "link": "[9.1.3.5 Flash firmware](https://jckantor.github.io/cbe-virtual-laboratory/09.01-Communicating _via_TCP.html#9.1.3.5-Flash-firmware)",
     "section": "9.1.3.5 Flash firmware"
    }
   },
   "outputs": [],
   "source": []
  },
  {
   "cell_type": "markdown",
   "metadata": {},
   "source": [
    "<!--NAVIGATION-->\n",
    "< [9.0 Interfacing with Laboratory Equipment](https://jckantor.github.io/cbe-virtual-laboratory/09.00-Interfacing_with_Laboratory_Equipment.html) | [Contents](toc.html) | [9.2 Stepper Motor Control via I2C](https://jckantor.github.io/cbe-virtual-laboratory/09.02-Stepper_Motor_Control_via_I2C.html) ><p><a href=\"https://colab.research.google.com/github/jckantor/cbe-virtual-laboratory/blob/master/docs/09.01-Communicating _via_TCP.ipynb\"> <img align=\"left\" src=\"https://colab.research.google.com/assets/colab-badge.svg\" alt=\"Open in Colab\" title=\"Open in Google Colaboratory\"></a><p><a href=\"https://jckantor.github.io/cbe-virtual-laboratory/09.01-Communicating _via_TCP.ipynb\"> <img align=\"left\" src=\"https://img.shields.io/badge/Github-Download-blue.svg\" alt=\"Download\" title=\"Download Notebook\"></a>"
   ]
  }
 ],
 "metadata": {
  "colab": {
   "collapsed_sections": [],
   "name": "09.01-Communicating _via_TCP.ipynb",
   "provenance": [
    {
     "file_id": "https://github.com/jckantor/cbe-virtual-laboratory/blob/main/notebooks/02.04-Simple-Stop-Watch.ipynb",
     "timestamp": 1603325027025
    }
   ],
   "toc_visible": true
  },
  "kernelspec": {
   "display_name": "Python 3",
   "language": "python",
   "name": "python3"
  },
  "language_info": {
   "codemirror_mode": {
    "name": "ipython",
    "version": 3
   },
   "file_extension": ".py",
   "mimetype": "text/x-python",
   "name": "python",
   "nbconvert_exporter": "python",
   "pygments_lexer": "ipython3",
   "version": "3.7.4"
  }
 },
 "nbformat": 4,
 "nbformat_minor": 0
}
