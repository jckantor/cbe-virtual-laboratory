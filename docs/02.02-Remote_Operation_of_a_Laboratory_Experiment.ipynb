{
 "cells": [
  {
   "cell_type": "markdown",
   "metadata": {},
   "source": [
    "<!--NOTEBOOK_HEADER-->\n",
    "*This notebook contains material from [cbe-virtual-laboratory](https://jckantor.github.io/cbe-virtual-laboratory);\n",
    "content is available [on Github](https://github.com/jckantor/cbe-virtual-laboratory.git).*\n"
   ]
  },
  {
   "cell_type": "markdown",
   "metadata": {},
   "source": [
    "<!--NAVIGATION-->\n",
    "< [2.1 Simulation of a Remote Laboratory Experiment Published via MQTT](https://jckantor.github.io/cbe-virtual-laboratory/02.01-SImulation_of_a_Laboratory_Experiment_Published_via_MQTT.html) | [Contents](toc.html) |<p><a href=\"https://colab.research.google.com/github/jckantor/cbe-virtual-laboratory/blob/master/docs/02.02-Remote_Operation_of_a_Laboratory_Experiment.ipynb\"> <img align=\"left\" src=\"https://colab.research.google.com/assets/colab-badge.svg\" alt=\"Open in Colab\" title=\"Open in Google Colaboratory\"></a><p><a href=\"https://jckantor.github.io/cbe-virtual-laboratory/02.02-Remote_Operation_of_a_Laboratory_Experiment.ipynb\"> <img align=\"left\" src=\"https://img.shields.io/badge/Github-Download-blue.svg\" alt=\"Download\" title=\"Download Notebook\"></a>"
   ]
  },
  {
   "cell_type": "markdown",
   "metadata": {
    "id": "kpLyVHsjDqSt",
    "nbpages": {
     "level": 1,
     "link": "[2.2 Remote Operation of a Laboratory Experiment via MQTT](https://jckantor.github.io/cbe-virtual-laboratory/02.02-Remote_Operation_of_a_Laboratory_Experiment.html#2.2-Remote-Operation-of-a-Laboratory-Experiment-via-MQTT)",
     "section": "2.2 Remote Operation of a Laboratory Experiment via MQTT"
    }
   },
   "source": [
    "# 2.2 Remote Operation of a Laboratory Experiment via MQTT"
   ]
  },
  {
   "cell_type": "markdown",
   "metadata": {
    "id": "f64l25Vd5E7d",
    "nbpages": {
     "level": 1,
     "link": "[2.2 Remote Operation of a Laboratory Experiment via MQTT](https://jckantor.github.io/cbe-virtual-laboratory/02.02-Remote_Operation_of_a_Laboratory_Experiment.html#2.2-Remote-Operation-of-a-Laboratory-Experiment-via-MQTT)",
     "section": "2.2 Remote Operation of a Laboratory Experiment via MQTT"
    }
   },
   "source": []
  },
  {
   "cell_type": "markdown",
   "metadata": {
    "id": "Goa0-Jn_s1bx",
    "nbpages": {
     "level": 2,
     "link": "[2.2.1 Installations](https://jckantor.github.io/cbe-virtual-laboratory/02.02-Remote_Operation_of_a_Laboratory_Experiment.html#2.2.1-Installations)",
     "section": "2.2.1 Installations"
    }
   },
   "source": [
    "## 2.2.1 Installations"
   ]
  },
  {
   "cell_type": "code",
   "execution_count": 1,
   "metadata": {
    "colab": {
     "base_uri": "https://localhost:8080/",
     "height": 187
    },
    "executionInfo": {
     "elapsed": 5031,
     "status": "ok",
     "timestamp": 1601586552676,
     "user": {
      "displayName": "Jeffrey Kantor",
      "photoUrl": "https://lh3.googleusercontent.com/a-/AOh14Gg_n8V7bVINy02QRuRgOoMo11Ri7NKU3OUKdC1bkQ=s64",
      "userId": "09038942003589296665"
     },
     "user_tz": 240
    },
    "id": "OF0o09nNjQju",
    "nbpages": {
     "level": 2,
     "link": "[2.2.1 Installations](https://jckantor.github.io/cbe-virtual-laboratory/02.02-Remote_Operation_of_a_Laboratory_Experiment.html#2.2.1-Installations)",
     "section": "2.2.1 Installations"
    },
    "outputId": "5f2cfcb8-438b-4ed8-9ec0-0731930a3fd8"
   },
   "outputs": [
    {
     "name": "stdout",
     "output_type": "stream",
     "text": [
      "Collecting paho-mqtt\n",
      "\u001b[?25l  Downloading https://files.pythonhosted.org/packages/32/d3/6dcb8fd14746fcde6a556f932b5de8bea8fedcb85b3a092e0e986372c0e7/paho-mqtt-1.5.1.tar.gz (101kB)\n",
      "\r",
      "\u001b[K     |███▏                            | 10kB 14.2MB/s eta 0:00:01\r",
      "\u001b[K     |██████▍                         | 20kB 2.9MB/s eta 0:00:01\r",
      "\u001b[K     |█████████▋                      | 30kB 3.7MB/s eta 0:00:01\r",
      "\u001b[K     |████████████▉                   | 40kB 3.9MB/s eta 0:00:01\r",
      "\u001b[K     |████████████████                | 51kB 3.4MB/s eta 0:00:01\r",
      "\u001b[K     |███████████████████▎            | 61kB 3.9MB/s eta 0:00:01\r",
      "\u001b[K     |██████████████████████▌         | 71kB 4.1MB/s eta 0:00:01\r",
      "\u001b[K     |█████████████████████████▊      | 81kB 4.4MB/s eta 0:00:01\r",
      "\u001b[K     |█████████████████████████████   | 92kB 4.5MB/s eta 0:00:01\r",
      "\u001b[K     |████████████████████████████████| 102kB 3.4MB/s \n",
      "\u001b[?25hBuilding wheels for collected packages: paho-mqtt\n",
      "  Building wheel for paho-mqtt (setup.py) ... \u001b[?25l\u001b[?25hdone\n",
      "  Created wheel for paho-mqtt: filename=paho_mqtt-1.5.1-cp36-none-any.whl size=61544 sha256=bad3dd55857d971ccfcb4938c41297a53f86ade7baeeee91d82dc4a1973f9629\n",
      "  Stored in directory: /root/.cache/pip/wheels/75/e2/f5/78942b19b4d135605e58dfe85fba52253b14d636aabf76904b\n",
      "Successfully built paho-mqtt\n",
      "Installing collected packages: paho-mqtt\n",
      "Successfully installed paho-mqtt-1.5.1\n"
     ]
    }
   ],
   "source": [
    "!pip install paho-mqtt"
   ]
  },
  {
   "cell_type": "markdown",
   "metadata": {
    "id": "Vq1o8PaPD6wi",
    "nbpages": {
     "level": 2,
     "link": "[2.2.2 Remote Operation of a Laboratory Experiment](https://jckantor.github.io/cbe-virtual-laboratory/02.02-Remote_Operation_of_a_Laboratory_Experiment.html#2.2.2-Remote-Operation-of-a-Laboratory-Experiment)",
     "section": "2.2.2 Remote Operation of a Laboratory Experiment"
    }
   },
   "source": [
    "## 2.2.2 Remote Operation of a Laboratory Experiment\n",
    "\n",
    "This cell establishes a connection to two topics on an MQTT server. The 'command' channel is used to publish a message to start a remote experiment for a duration given in seconds. A client is opened to listen to a 'measurement' channel.\n",
    "\n",
    "Before running this channel, start up up the companion notebook that simulates a remote experiment https://colab.research.google.com/drive/1cj9Y8IlVX2-ZMEMoVWi8G5WDKNr3gkr9?usp=sharing "
   ]
  },
  {
   "cell_type": "markdown",
   "metadata": {
    "id": "5_gOHgpJFg5q",
    "nbpages": {
     "level": 2,
     "link": "[2.2.3 Version 1](https://jckantor.github.io/cbe-virtual-laboratory/02.02-Remote_Operation_of_a_Laboratory_Experiment.html#2.2.3-Version-1)",
     "section": "2.2.3 Version 1"
    }
   },
   "source": [
    "## 2.2.3 Version 1"
   ]
  },
  {
   "cell_type": "code",
   "execution_count": 14,
   "metadata": {
    "colab": {
     "base_uri": "https://localhost:8080/",
     "height": 295
    },
    "executionInfo": {
     "elapsed": 11000,
     "status": "ok",
     "timestamp": 1601588155706,
     "user": {
      "displayName": "Jeffrey Kantor",
      "photoUrl": "https://lh3.googleusercontent.com/a-/AOh14Gg_n8V7bVINy02QRuRgOoMo11Ri7NKU3OUKdC1bkQ=s64",
      "userId": "09038942003589296665"
     },
     "user_tz": 240
    },
    "id": "OIc0GSZLjLXC",
    "nbpages": {
     "level": 2,
     "link": "[2.2.3 Version 1](https://jckantor.github.io/cbe-virtual-laboratory/02.02-Remote_Operation_of_a_Laboratory_Experiment.html#2.2.3-Version-1)",
     "section": "2.2.3 Version 1"
    },
    "outputId": "c23c475a-6375-48cd-838e-17ec4c4b01aa"
   },
   "outputs": [
    {
     "data": {
      "image/png": "[encoded data removed]",
      "text/plain": [
       "<Figure size 432x288 with 1 Axes>"
      ]
     },
     "metadata": {
      "tags": []
     },
     "output_type": "display_data"
    }
   ],
   "source": [
    "%matplotlib inline\n",
    "import paho.mqtt.client as mqtt\n",
    "import paho.mqtt.publish as publish\n",
    "import time\n",
    "import matplotlib.pyplot as plt\n",
    "import numpy as np\n",
    "from IPython import display\n",
    "\n",
    "# select experiment duration\n",
    "duration = 10\n",
    "expt_topic = \"cbe-virtual-lab/tank-level/simulation\"\n",
    "\n",
    "# callbacks\n",
    "def on_connect(client, userdata, flags, rc):\n",
    "    print(f\"Connected with result code {rc}\")\n",
    "    client.subscribe(expt_topic)\n",
    "\n",
    "x = []\n",
    "y = []\n",
    "fig, ax = plt.subplots(1, 1)\n",
    "ax.plot(x, y, '.', ms=10)\n",
    "ax.set_xlim(0, 40)\n",
    "ax.set_ylim(0, 2.1)\n",
    "ax.set_xlabel('time / seconds')\n",
    "ax.set_ylabel('level')\n",
    "ax.set_title(topic)\n",
    "line = ax.lines[0]\n",
    "display.display(fig)\n",
    "\n",
    "# call back to process message from remote experiment\n",
    "def on_message(client, userdata, msg):\n",
    "    #print(msg.topic + \" \" + msg.payload.decode(\"utf-8\"))\n",
    "    xdata, ydata = [float(i) for i in msg.payload.decode(\"utf-8\").split(',')]\n",
    "    x.append(xdata)\n",
    "    y.append(ydata)\n",
    "    line.set_data(x, y)\n",
    "    display.clear_output(wait=True)\n",
    "    display.display(fig)\n",
    "\n",
    "# setup client\n",
    "client = mqtt.Client()\n",
    "client.on_connect = on_connect\n",
    "client.on_message = on_message\n",
    "\n",
    "# connect to measurement channel\n",
    "client.connect(\"mqtt.eclipse.org\", 1883, 60)\n",
    "\n",
    "# tell experiment to start\n",
    "msg = f'{{\"duration\": {duration}, \"topic\": \"{topic}\"}}'\n",
    "publish.single(\"cbe-virtual-lab/command\", msg, hostname=\"mqtt.eclipse.org\")\n",
    "\n",
    "# listen for measurement information\n",
    "client.loop_start()\n",
    "time.sleep(duration)\n",
    "client.loop_stop()\n",
    "\n",
    "# prevent the plot showing again after completion\n",
    "plt.close()"
   ]
  },
  {
   "cell_type": "code",
   "execution_count": null,
   "metadata": {
    "id": "X9ZsFM9BVwk9",
    "nbpages": {
     "level": 2,
     "link": "[2.2.3 Version 1](https://jckantor.github.io/cbe-virtual-laboratory/02.02-Remote_Operation_of_a_Laboratory_Experiment.html#2.2.3-Version-1)",
     "section": "2.2.3 Version 1"
    }
   },
   "outputs": [],
   "source": []
  },
  {
   "cell_type": "markdown",
   "metadata": {},
   "source": [
    "<!--NAVIGATION-->\n",
    "< [2.1 Simulation of a Remote Laboratory Experiment Published via MQTT](https://jckantor.github.io/cbe-virtual-laboratory/02.01-SImulation_of_a_Laboratory_Experiment_Published_via_MQTT.html) | [Contents](toc.html) |<p><a href=\"https://colab.research.google.com/github/jckantor/cbe-virtual-laboratory/blob/master/docs/02.02-Remote_Operation_of_a_Laboratory_Experiment.ipynb\"> <img align=\"left\" src=\"https://colab.research.google.com/assets/colab-badge.svg\" alt=\"Open in Colab\" title=\"Open in Google Colaboratory\"></a><p><a href=\"https://jckantor.github.io/cbe-virtual-laboratory/02.02-Remote_Operation_of_a_Laboratory_Experiment.ipynb\"> <img align=\"left\" src=\"https://img.shields.io/badge/Github-Download-blue.svg\" alt=\"Download\" title=\"Download Notebook\"></a>"
   ]
  }
 ],
 "metadata": {
  "colab": {
   "authorship_tag": "ABX9TyOEL+1kstycKKIptMQHCKlA",
   "collapsed_sections": [],
   "name": "Remote_Operation_of_a_Laboratory_Experiment.ipynb",
   "provenance": []
  },
  "kernelspec": {
   "display_name": "Python 3",
   "name": "python3"
  }
 },
 "nbformat": 4,
 "nbformat_minor": 0
}
