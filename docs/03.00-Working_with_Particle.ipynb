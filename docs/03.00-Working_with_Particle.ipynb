{
 "cells": [
  {
   "cell_type": "markdown",
   "metadata": {},
   "source": [
    "<!--NOTEBOOK_HEADER-->\n",
    "*This notebook contains material from [cbe-virtual-laboratory](https://jckantor.github.io/cbe-virtual-laboratory);\n",
    "content is available [on Github](https://github.com/jckantor/cbe-virtual-laboratory.git).*\n"
   ]
  },
  {
   "cell_type": "markdown",
   "metadata": {},
   "source": [
    "<!--NAVIGATION-->\n",
    "< [2.2 Accessing a Remote Experiment via MQTT](https://jckantor.github.io/cbe-virtual-laboratory/02.02-Accessing_a_Remote_Experiment_via_MQTT.html) | [Contents](toc.html) | [None](https://jckantor.github.io/cbe-virtual-laboratory/03.01-Accessing_MQTT_Devices.html) ><p><a href=\"https://colab.research.google.com/github/jckantor/cbe-virtual-laboratory/blob/master/docs/03.00-Working_with_Particle.ipynb\"> <img align=\"left\" src=\"https://colab.research.google.com/assets/colab-badge.svg\" alt=\"Open in Colab\" title=\"Open in Google Colaboratory\"></a><p><a href=\"https://jckantor.github.io/cbe-virtual-laboratory/03.00-Working_with_Particle.ipynb\"> <img align=\"left\" src=\"https://img.shields.io/badge/Github-Download-blue.svg\" alt=\"Download\" title=\"Download Notebook\"></a>"
   ]
  },
  {
   "cell_type": "markdown",
   "metadata": {
    "nbpages": {
     "level": 1,
     "link": "[3.0 Working with Particle](https://jckantor.github.io/cbe-virtual-laboratory/03.00-Working_with_Particle.html#3.0-Working-with-Particle)",
     "section": "3.0 Working with Particle"
    }
   },
   "source": [
    "# 3.0 Working with Particle"
   ]
  },
  {
   "cell_type": "code",
   "execution_count": null,
   "metadata": {
    "nbpages": {
     "level": 1,
     "link": "[3.0 Working with Particle](https://jckantor.github.io/cbe-virtual-laboratory/03.00-Working_with_Particle.html#3.0-Working-with-Particle)",
     "section": "3.0 Working with Particle"
    }
   },
   "outputs": [],
   "source": []
  },
  {
   "cell_type": "markdown",
   "metadata": {},
   "source": [
    "<!--NAVIGATION-->\n",
    "< [2.2 Accessing a Remote Experiment via MQTT](https://jckantor.github.io/cbe-virtual-laboratory/02.02-Accessing_a_Remote_Experiment_via_MQTT.html) | [Contents](toc.html) | [None](https://jckantor.github.io/cbe-virtual-laboratory/03.01-Accessing_MQTT_Devices.html) ><p><a href=\"https://colab.research.google.com/github/jckantor/cbe-virtual-laboratory/blob/master/docs/03.00-Working_with_Particle.ipynb\"> <img align=\"left\" src=\"https://colab.research.google.com/assets/colab-badge.svg\" alt=\"Open in Colab\" title=\"Open in Google Colaboratory\"></a><p><a href=\"https://jckantor.github.io/cbe-virtual-laboratory/03.00-Working_with_Particle.ipynb\"> <img align=\"left\" src=\"https://img.shields.io/badge/Github-Download-blue.svg\" alt=\"Download\" title=\"Download Notebook\"></a>"
   ]
  }
 ],
 "metadata": {
  "kernelspec": {
   "display_name": "Python 3",
   "language": "python",
   "name": "python3"
  },
  "language_info": {
   "codemirror_mode": {
    "name": "ipython",
    "version": 3
   },
   "file_extension": ".py",
   "mimetype": "text/x-python",
   "name": "python",
   "nbconvert_exporter": "python",
   "pygments_lexer": "ipython3",
   "version": "3.7.4"
  }
 },
 "nbformat": 4,
 "nbformat_minor": 4
}
