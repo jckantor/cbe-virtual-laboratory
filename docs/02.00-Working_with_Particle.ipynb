{
 "cells": [
  {
   "cell_type": "markdown",
   "metadata": {},
   "source": [
    "<!--NOTEBOOK_HEADER-->\n",
    "*This notebook contains material from [cbe-virtual-laboratory](https://jckantor.github.io/cbe-virtual-laboratory);\n",
    "content is available [on Github](https://github.com/jckantor/cbe-virtual-laboratory.git).*\n"
   ]
  },
  {
   "cell_type": "markdown",
   "metadata": {},
   "source": [
    "<!--NAVIGATION-->\n",
    "< [1.0 CBE Virtual Laboratory](https://jckantor.github.io/cbe-virtual-laboratory/01.00-CBE_Virtual_Laboratory.html) | [Contents](toc.html) | [2.1 Particle-cli](https://jckantor.github.io/cbe-virtual-laboratory/02.01-Particle-cli.html) ><p><a href=\"https://colab.research.google.com/github/jckantor/cbe-virtual-laboratory/blob/master/docs/02.00-Working_with_Particle.ipynb\"> <img align=\"left\" src=\"https://colab.research.google.com/assets/colab-badge.svg\" alt=\"Open in Colab\" title=\"Open in Google Colaboratory\"></a><p><a href=\"https://jckantor.github.io/cbe-virtual-laboratory/02.00-Working_with_Particle.ipynb\"> <img align=\"left\" src=\"https://img.shields.io/badge/Github-Download-blue.svg\" alt=\"Download\" title=\"Download Notebook\"></a>"
   ]
  },
  {
   "cell_type": "markdown",
   "metadata": {
    "id": "-v0_WNKmYmbN",
    "nbpages": {
     "level": 1,
     "link": "[2.0 Working with Particle](https://jckantor.github.io/cbe-virtual-laboratory/02.00-Working_with_Particle.html#2.0-Working-with-Particle)",
     "section": "2.0 Working with Particle"
    }
   },
   "source": [
    "# 2.0 Working with Particle"
   ]
  },
  {
   "cell_type": "markdown",
   "metadata": {
    "id": "V-L4G9Ezjeo6",
    "nbpages": {
     "level": 2,
     "link": "[2.0.1 Particle Argon](https://jckantor.github.io/cbe-virtual-laboratory/02.00-Working_with_Particle.html#2.0.1-Particle-Argon)",
     "section": "2.0.1 Particle Argon"
    }
   },
   "source": [
    "## 2.0.1 Particle Argon\n",
    "\n",
    "[hardware datasheet](https://docs.particle.io/datasheets/wi-fi/argon-datasheet/)\n",
    "\n",
    "[Device OS API](https://docs.particle.io/reference/device-os/firmware/argon/)\n",
    "\n",
    "![](https://docs.particle.io/assets/images/argon/argon-top.png)"
   ]
  },
  {
   "cell_type": "code",
   "execution_count": null,
   "metadata": {
    "id": "2j_jGsvGYmbO",
    "nbpages": {
     "level": 2,
     "link": "[2.0.1 Particle Argon](https://jckantor.github.io/cbe-virtual-laboratory/02.00-Working_with_Particle.html#2.0.1-Particle-Argon)",
     "section": "2.0.1 Particle Argon"
    }
   },
   "outputs": [],
   "source": []
  },
  {
   "cell_type": "markdown",
   "metadata": {},
   "source": [
    "<!--NAVIGATION-->\n",
    "< [1.0 CBE Virtual Laboratory](https://jckantor.github.io/cbe-virtual-laboratory/01.00-CBE_Virtual_Laboratory.html) | [Contents](toc.html) | [2.1 Particle-cli](https://jckantor.github.io/cbe-virtual-laboratory/02.01-Particle-cli.html) ><p><a href=\"https://colab.research.google.com/github/jckantor/cbe-virtual-laboratory/blob/master/docs/02.00-Working_with_Particle.ipynb\"> <img align=\"left\" src=\"https://colab.research.google.com/assets/colab-badge.svg\" alt=\"Open in Colab\" title=\"Open in Google Colaboratory\"></a><p><a href=\"https://jckantor.github.io/cbe-virtual-laboratory/02.00-Working_with_Particle.ipynb\"> <img align=\"left\" src=\"https://img.shields.io/badge/Github-Download-blue.svg\" alt=\"Download\" title=\"Download Notebook\"></a>"
   ]
  }
 ],
 "metadata": {
  "colab": {
   "name": "02.00-Working_with_Particle.ipynb",
   "provenance": []
  },
  "kernelspec": {
   "display_name": "Python 3",
   "language": "python",
   "name": "python3"
  },
  "language_info": {
   "codemirror_mode": {
    "name": "ipython",
    "version": 3
   },
   "file_extension": ".py",
   "mimetype": "text/x-python",
   "name": "python",
   "nbconvert_exporter": "python",
   "pygments_lexer": "ipython3",
   "version": "3.7.4"
  }
 },
 "nbformat": 4,
 "nbformat_minor": 0
}
