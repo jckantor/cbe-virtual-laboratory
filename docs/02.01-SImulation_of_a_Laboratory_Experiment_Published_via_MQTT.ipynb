{
 "cells": [
  {
   "cell_type": "markdown",
   "metadata": {},
   "source": [
    "<!--NOTEBOOK_HEADER-->\n",
    "*This notebook contains material from [cbe-virtual-laboratory](https://jckantor.github.io/cbe-virtual-laboratory);\n",
    "content is available [on Github](https://github.com/jckantor/cbe-virtual-laboratory.git).*\n"
   ]
  },
  {
   "cell_type": "markdown",
   "metadata": {},
   "source": [
    "<!--NAVIGATION-->\n",
    "< [2.0 Proof of Concept](https://jckantor.github.io/cbe-virtual-laboratory/02.00-Proof_of_Concept.html) | [Contents](toc.html) | [2.2 Remote Operation of a Laboratory Experiment via MQTT](https://jckantor.github.io/cbe-virtual-laboratory/02.02-Remote_Operation_of_a_Laboratory_Experiment.html) ><p><a href=\"https://colab.research.google.com/github/jckantor/cbe-virtual-laboratory/blob/master/docs/02.01-SImulation_of_a_Laboratory_Experiment_Published_via_MQTT.ipynb\"> <img align=\"left\" src=\"https://colab.research.google.com/assets/colab-badge.svg\" alt=\"Open in Colab\" title=\"Open in Google Colaboratory\"></a><p><a href=\"https://jckantor.github.io/cbe-virtual-laboratory/02.01-SImulation_of_a_Laboratory_Experiment_Published_via_MQTT.ipynb\"> <img align=\"left\" src=\"https://img.shields.io/badge/Github-Download-blue.svg\" alt=\"Download\" title=\"Download Notebook\"></a>"
   ]
  },
  {
   "cell_type": "markdown",
   "metadata": {
    "id": "6WBNBkcs2Stn",
    "nbpages": {
     "level": 1,
     "link": "[2.1 Simulation of a Remote Laboratory Experiment Published via MQTT](https://jckantor.github.io/cbe-virtual-laboratory/02.01-SImulation_of_a_Laboratory_Experiment_Published_via_MQTT.html#2.1-Simulation-of-a-Remote-Laboratory-Experiment-Published-via-MQTT)",
     "section": "2.1 Simulation of a Remote Laboratory Experiment Published via MQTT"
    }
   },
   "source": [
    "# 2.1 Simulation of a Remote Laboratory Experiment Published via MQTT\n",
    "\n",
    "This notebook is part of a proof concept study regarding use of the Internet of Things (IoT) as infrastructure for engineering teaching laboratories. \n",
    "\n",
    "This notebook uses the [SimPy](https://simpy.readthedocs.io/en/latest/) library a create real-time simulation of a hypothetical experiment. The experiment responds to inputs and publishes data to a remote user via an an MQTT broker. In actual use, the content of this notebook would be implemented in an attached device such as an Arduino, Particle, or Raspberry Pi, with attached sensors.\n",
    "\n",
    "The companion notebook ??? demonstrates how a remote client could interact with the experiment via MQTT."
   ]
  },
  {
   "cell_type": "markdown",
   "metadata": {
    "id": "uTTXpDQ1sfMW",
    "nbpages": {
     "level": 2,
     "link": "[2.1.1 Installations](https://jckantor.github.io/cbe-virtual-laboratory/02.01-SImulation_of_a_Laboratory_Experiment_Published_via_MQTT.html#2.1.1-Installations)",
     "section": "2.1.1 Installations"
    }
   },
   "source": [
    "## 2.1.1 Installations\n",
    "\n",
    "The following installations are required for use on Google Colab."
   ]
  },
  {
   "cell_type": "code",
   "execution_count": 2,
   "metadata": {
    "colab": {
     "base_uri": "https://localhost:8080/",
     "height": 275
    },
    "executionInfo": {
     "elapsed": 8420,
     "status": "ok",
     "timestamp": 1601586403717,
     "user": {
      "displayName": "Jeffrey Kantor",
      "photoUrl": "https://lh3.googleusercontent.com/a-/AOh14Gg_n8V7bVINy02QRuRgOoMo11Ri7NKU3OUKdC1bkQ=s64",
      "userId": "09038942003589296665"
     },
     "user_tz": 240
    },
    "id": "yKd6U4hMpgc0",
    "nbpages": {
     "level": 2,
     "link": "[2.1.1 Installations](https://jckantor.github.io/cbe-virtual-laboratory/02.01-SImulation_of_a_Laboratory_Experiment_Published_via_MQTT.html#2.1.1-Installations)",
     "section": "2.1.1 Installations"
    },
    "outputId": "d6e908a6-c24f-434b-c308-b29a123ff82f"
   },
   "outputs": [
    {
     "name": "stdout",
     "output_type": "stream",
     "text": [
      "Collecting paho-mqtt\n",
      "\u001b[?25l  Downloading https://files.pythonhosted.org/packages/32/d3/6dcb8fd14746fcde6a556f932b5de8bea8fedcb85b3a092e0e986372c0e7/paho-mqtt-1.5.1.tar.gz (101kB)\n",
      "\u001b[K     |████████████████████████████████| 102kB 5.0MB/s ta 0:00:011\n",
      "\u001b[?25hBuilding wheels for collected packages: paho-mqtt\n",
      "  Building wheel for paho-mqtt (setup.py) ... \u001b[?25l\u001b[?25hdone\n",
      "  Created wheel for paho-mqtt: filename=paho_mqtt-1.5.1-cp36-none-any.whl size=61544 sha256=e1c78ce2e63e037c45f8aff66b8e2a46e045b79449c8b7f1f20746a5f394f4cd\n",
      "  Stored in directory: /root/.cache/pip/wheels/75/e2/f5/78942b19b4d135605e58dfe85fba52253b14d636aabf76904b\n",
      "Successfully built paho-mqtt\n",
      "Installing collected packages: paho-mqtt\n",
      "Successfully installed paho-mqtt-1.5.1\n",
      "Collecting simpy\n",
      "  Downloading https://files.pythonhosted.org/packages/20/f9/874b0bab83406827db93292a5bbe5acb5c18e3cea665b2f6e053292cb687/simpy-4.0.1-py2.py3-none-any.whl\n",
      "Installing collected packages: simpy\n",
      "Successfully installed simpy-4.0.1\n"
     ]
    }
   ],
   "source": [
    "!pip install paho-mqtt\n",
    "!pip install simpy"
   ]
  },
  {
   "cell_type": "markdown",
   "metadata": {
    "id": "9gp7Z7ZMsimK",
    "nbpages": {
     "level": 2,
     "link": "[2.1.2 Publishing a real-time simulation via MQTT](https://jckantor.github.io/cbe-virtual-laboratory/02.01-SImulation_of_a_Laboratory_Experiment_Published_via_MQTT.html#2.1.2-Publishing-a-real-time-simulation-via-MQTT)",
     "section": "2.1.2 Publishing a real-time simulation via MQTT"
    }
   },
   "source": [
    "## 2.1.2 Publishing a real-time simulation via MQTT\n",
    "\n",
    "Topics:\n",
    "\n",
    "| topic | messages |\n",
    "| :-- | :-- |\n",
    "| `cbe-virtual-lab/command` | start and stop experiments |\n",
    "| `cbe-virtual-lab/expt-name/data` | topic\n"
   ]
  },
  {
   "cell_type": "markdown",
   "metadata": {
    "id": "rwjq11DSn8Yz",
    "nbpages": {
     "level": 3,
     "link": "[2.1.2.1 Proof of Concept](https://jckantor.github.io/cbe-virtual-laboratory/02.01-SImulation_of_a_Laboratory_Experiment_Published_via_MQTT.html#2.1.2.1-Proof-of-Concept)",
     "section": "2.1.2.1 Proof of Concept"
    }
   },
   "source": [
    "### 2.1.2.1 Proof of Concept\n",
    "\n",
    "Here we experiment with encapsulating the experiment as a standalone class. This is set up so that upon receiving an appropriate message from the remote user, a new instance of the experiment is created and run."
   ]
  },
  {
   "cell_type": "code",
   "execution_count": 2,
   "metadata": {
    "colab": {
     "base_uri": "https://localhost:8080/",
     "height": 816
    },
    "executionInfo": {
     "elapsed": 61024,
     "status": "ok",
     "timestamp": 1601588184742,
     "user": {
      "displayName": "Jeffrey Kantor",
      "photoUrl": "https://lh3.googleusercontent.com/a-/AOh14Gg_n8V7bVINy02QRuRgOoMo11Ri7NKU3OUKdC1bkQ=s64",
      "userId": "09038942003589296665"
     },
     "user_tz": 240
    },
    "id": "1GMBD8WtjQAb",
    "nbpages": {
     "level": 3,
     "link": "[2.1.2.1 Proof of Concept](https://jckantor.github.io/cbe-virtual-laboratory/02.01-SImulation_of_a_Laboratory_Experiment_Published_via_MQTT.html#2.1.2.1-Proof-of-Concept)",
     "section": "2.1.2.1 Proof of Concept"
    },
    "outputId": "871fbe23-f07a-4c69-c844-aaa4138f651b"
   },
   "outputs": [
    {
     "name": "stdout",
     "output_type": "stream",
     "text": [
      "0\n",
      "Connected with result code 0\n",
      "1\n",
      "Received b'{\"duration\": 10, \"topic\": \"cbe-virtual-lab/tank-level/simulation\"}' from cbe-virtual-lab/command\n",
      "Experiment started by <paho.mqtt.client.Client object at 0x7f3cfb071a20>\n",
      "<paho.mqtt.client.Client object at 0x7f3cfb071dd8> published with result code 1\n",
      "<paho.mqtt.client.Client object at 0x7f3cfb071dd8> published with result code 2\n",
      "2\n",
      "<paho.mqtt.client.Client object at 0x7f3cfb071dd8> published with result code 3\n",
      "<paho.mqtt.client.Client object at 0x7f3cfb071dd8> published with result code 4\n",
      "<paho.mqtt.client.Client object at 0x7f3cfb071dd8> published with result code 5\n",
      "3\n",
      "<paho.mqtt.client.Client object at 0x7f3cfb071dd8> published with result code 6\n",
      "<paho.mqtt.client.Client object at 0x7f3cfb071dd8> published with result code 7\n",
      "<paho.mqtt.client.Client object at 0x7f3cfb071dd8> published with result code 8\n",
      "4\n",
      "<paho.mqtt.client.Client object at 0x7f3cfb071dd8> published with result code 9\n",
      "<paho.mqtt.client.Client object at 0x7f3cfb071dd8> published with result code 10\n",
      "End experiment.\n",
      "5\n",
      "6\n",
      "7\n",
      "Received b'{\"duration\": 10, \"topic\": \"cbe-virtual-lab/tank-level/simulation\"}' from cbe-virtual-lab/command\n",
      "Experiment started by <paho.mqtt.client.Client object at 0x7f3cfb071a20>\n",
      "<paho.mqtt.client.Client object at 0x7f3cfa2ce0b8> published with result code 1\n",
      "<paho.mqtt.client.Client object at 0x7f3cfa2ce0b8> published with result code 2\n",
      "<paho.mqtt.client.Client object at 0x7f3cfa2ce0b8> published with result code 3\n",
      "8\n",
      "<paho.mqtt.client.Client object at 0x7f3cfa2ce0b8> published with result code 4\n",
      "<paho.mqtt.client.Client object at 0x7f3cfa2ce0b8> published with result code 5\n",
      "<paho.mqtt.client.Client object at 0x7f3cfa2ce0b8> published with result code 6\n",
      "9\n",
      "<paho.mqtt.client.Client object at 0x7f3cfa2ce0b8> published with result code 7\n",
      "<paho.mqtt.client.Client object at 0x7f3cfa2ce0b8> published with result code 8\n",
      "<paho.mqtt.client.Client object at 0x7f3cfa2ce0b8> published with result code 9\n",
      "10\n",
      "<paho.mqtt.client.Client object at 0x7f3cfa2ce0b8> published with result code 10\n",
      "End experiment.\n",
      "11\n",
      "12\n",
      "13\n",
      "14\n",
      "15\n",
      "16\n",
      "17\n",
      "18\n",
      "19\n"
     ]
    }
   ],
   "source": [
    "import time\n",
    "import simpy\n",
    "import paho.mqtt.publish as publish\n",
    "import paho.mqtt.client as mqtt\n",
    "import json\n",
    "\n",
    "class Experiment():\n",
    "\n",
    "    def __init__(self, topic, duration):\n",
    "        self.topic = topic\n",
    "        self.duration = duration\n",
    "        self.env = simpy.rt.RealtimeEnvironment(factor=1)\n",
    "        self.proc = self.env.process(self.process())\n",
    "        self.client = mqtt.Client()\n",
    "        #self.client.on_connect = self.on_connect\n",
    "        self.client.on_publish = self.on_publish\n",
    "\n",
    "    def on_connect(self, client, userdata, flags, rc):\n",
    "        print(f\"Connected with result code {rc}\")\n",
    "        print(client.clientId)\n",
    "        self.client.subscribe(self.topic)\n",
    "\n",
    "    def on_publish(self, client, userdata, result):\n",
    "        print(f\"{client} published with result code {result}\")\n",
    "\n",
    "    def process(self):\n",
    "        t_start = time.perf_counter()\n",
    "        t = 0\n",
    "        y = 2.0\n",
    "        while True:\n",
    "            msg = f\"{round(t,2)},{y:5.2f}\"\n",
    "            self.client.publish(self.topic, msg)\n",
    "            yield self.env.timeout(1 - (t - round(t, 0)))\n",
    "            t = time.perf_counter() - t_start\n",
    "            y -= 0.1*y\n",
    "\n",
    "    def run(self, client):\n",
    "        print(f\"Experiment started by {client}\")\n",
    "        self.client.connect(\"mqtt.eclipse.org\", 1883, 60)\n",
    "        self.env.run(until=self.duration)\n",
    "        self.client.disconnect()\n",
    "        print(\"End experiment.\")\n",
    "\n",
    "# set up client to wait for command messages\n",
    "\n",
    "def on_connect(client, userdata, flags, rc):\n",
    "    \"\"\"report connection and subscribe\"\"\"\n",
    "    print(f\"Connected with result code {rc}\")\n",
    "    client.subscribe(\"cbe-virtual-lab/command/#\")\n",
    "\n",
    "def on_message(client, userdata, msg):\n",
    "    \"\"\"setup and start new experiment\"\"\"\n",
    "    print(f\"Received {msg.payload} from {msg.topic}\")\n",
    "    data = json.loads(msg.payload.decode(\"utf-8\"))\n",
    "    duration = data['duration']\n",
    "    topic = data['topic']\n",
    "    expt = Experiment(topic, duration)\n",
    "    expt.run(client)\n",
    "\n",
    "# setup client\n",
    "client = mqtt.Client(\"virtual-cbe-lab\")\n",
    "client.on_connect = on_connect\n",
    "client.on_message = on_message\n",
    "\n",
    "# connect client to broker\n",
    "client.connect(\"mqtt.eclipse.org\", 1883, 60)\n",
    "\n",
    "# start a non-blocking thread to wait for messages\n",
    "client.loop_start()\n",
    "\n",
    "# prove the loop is non-blocking\n",
    "for k in range(20):\n",
    "    print(k)\n",
    "    time.sleep(3)\n",
    "\n",
    "# don't leave a zombie thread behind\n",
    "client.loop_stop()"
   ]
  },
  {
   "cell_type": "code",
   "execution_count": null,
   "metadata": {
    "id": "Sh-MZb2DI__1",
    "nbpages": {
     "level": 3,
     "link": "[2.1.2.1 Proof of Concept](https://jckantor.github.io/cbe-virtual-laboratory/02.01-SImulation_of_a_Laboratory_Experiment_Published_via_MQTT.html#2.1.2.1-Proof-of-Concept)",
     "section": "2.1.2.1 Proof of Concept"
    }
   },
   "outputs": [],
   "source": []
  },
  {
   "cell_type": "markdown",
   "metadata": {},
   "source": [
    "<!--NAVIGATION-->\n",
    "< [2.0 Proof of Concept](https://jckantor.github.io/cbe-virtual-laboratory/02.00-Proof_of_Concept.html) | [Contents](toc.html) | [2.2 Remote Operation of a Laboratory Experiment via MQTT](https://jckantor.github.io/cbe-virtual-laboratory/02.02-Remote_Operation_of_a_Laboratory_Experiment.html) ><p><a href=\"https://colab.research.google.com/github/jckantor/cbe-virtual-laboratory/blob/master/docs/02.01-SImulation_of_a_Laboratory_Experiment_Published_via_MQTT.ipynb\"> <img align=\"left\" src=\"https://colab.research.google.com/assets/colab-badge.svg\" alt=\"Open in Colab\" title=\"Open in Google Colaboratory\"></a><p><a href=\"https://jckantor.github.io/cbe-virtual-laboratory/02.01-SImulation_of_a_Laboratory_Experiment_Published_via_MQTT.ipynb\"> <img align=\"left\" src=\"https://img.shields.io/badge/Github-Download-blue.svg\" alt=\"Download\" title=\"Download Notebook\"></a>"
   ]
  }
 ],
 "metadata": {
  "colab": {
   "authorship_tag": "ABX9TyMT9CWswbMtHCnFcPQ3Eyty",
   "collapsed_sections": [],
   "name": "SImulation_of_a_Laboratory_Experiment_Published_via_MQTT.ipynb",
   "provenance": []
  },
  "kernelspec": {
   "display_name": "Python 3",
   "language": "python",
   "name": "python3"
  },
  "language_info": {
   "codemirror_mode": {
    "name": "ipython",
    "version": 3
   },
   "file_extension": ".py",
   "mimetype": "text/x-python",
   "name": "python",
   "nbconvert_exporter": "python",
   "pygments_lexer": "ipython3",
   "version": "3.7.4"
  }
 },
 "nbformat": 4,
 "nbformat_minor": 4
}
