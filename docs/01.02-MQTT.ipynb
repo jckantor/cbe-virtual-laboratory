{
 "cells": [
  {
   "cell_type": "markdown",
   "metadata": {},
   "source": [
    "<!--NOTEBOOK_HEADER-->\n",
    "*This notebook contains material from [cbe-virtual-laboratory](https://jckantor.github.io/cbe-virtual-laboratory);\n",
    "content is available [on Github](https://github.com/jckantor/cbe-virtual-laboratory.git).*\n"
   ]
  },
  {
   "cell_type": "markdown",
   "metadata": {},
   "source": [
    "<!--NAVIGATION-->\n",
    "< [1.0 CBE Virtual Laboratory](https://jckantor.github.io/cbe-virtual-laboratory/01.00-CBE_Virtual_Laboratory.html) | [Contents](toc.html) | [2.0 Proof of Concept](https://jckantor.github.io/cbe-virtual-laboratory/02.00-Proof_of_Concept.html) ><p><a href=\"https://colab.research.google.com/github/jckantor/cbe-virtual-laboratory/blob/master/docs/01.02-MQTT.ipynb\"> <img align=\"left\" src=\"https://colab.research.google.com/assets/colab-badge.svg\" alt=\"Open in Colab\" title=\"Open in Google Colaboratory\"></a><p><a href=\"https://jckantor.github.io/cbe-virtual-laboratory/01.02-MQTT.ipynb\"> <img align=\"left\" src=\"https://img.shields.io/badge/Github-Download-blue.svg\" alt=\"Download\" title=\"Download Notebook\"></a>"
   ]
  },
  {
   "cell_type": "markdown",
   "metadata": {
    "nbpages": {
     "level": 1,
     "link": "[1.2 MQTT](https://jckantor.github.io/cbe-virtual-laboratory/01.02-MQTT.html#1.2-MQTT)",
     "section": "1.2 MQTT"
    }
   },
   "source": [
    "# 1.2 MQTT"
   ]
  },
  {
   "cell_type": "markdown",
   "metadata": {
    "nbpages": {
     "level": 2,
     "link": "[1.2.1 Background](https://jckantor.github.io/cbe-virtual-laboratory/01.02-MQTT.html#1.2.1-Background)",
     "section": "1.2.1 Background"
    }
   },
   "source": [
    "## 1.2.1 Background\n",
    "\n",
    "Descriptions\n",
    "\n",
    "* [MQTT.org](MQTT.org)\n",
    "\n",
    "Primers and Tutorials\n",
    "\n",
    "* mqtt primer: https://www.youtube.com/watch?v=AxC_ykketIg&ab_channel=wcltalkstech\n",
    "* HiveMQ MQTT Essentials: https://www.hivemq.com/tags/mqtt-essentials/\n",
    "\n",
    "* [Using MQTT to send and receive data for your next project](https://opensource.com/article/18/6/mqtt)\n",
    "\n",
    "MQTT for Process Applications\n",
    "\n",
    "* [How MQTT is advancing automation and control](https://www.flowcontrolnetwork.com/process-control-automation/article/21122615/how-mqtt-is-advancing-automation-and-control)\n",
    "\n",
    "* [MQTT, open SCADA publish/subscribe protocol is getting what it needs to go industrial](https://www.controlglobal.com/articles/2019/mqtt-open-scada-publishsubscribe-protocol-is-getting-what-it-needs-to-go-industrial/)"
   ]
  },
  {
   "cell_type": "code",
   "execution_count": null,
   "metadata": {
    "nbpages": {
     "level": 2,
     "link": "[1.2.1 Background](https://jckantor.github.io/cbe-virtual-laboratory/01.02-MQTT.html#1.2.1-Background)",
     "section": "1.2.1 Background"
    }
   },
   "outputs": [],
   "source": []
  },
  {
   "cell_type": "markdown",
   "metadata": {},
   "source": [
    "<!--NAVIGATION-->\n",
    "< [1.0 CBE Virtual Laboratory](https://jckantor.github.io/cbe-virtual-laboratory/01.00-CBE_Virtual_Laboratory.html) | [Contents](toc.html) | [2.0 Proof of Concept](https://jckantor.github.io/cbe-virtual-laboratory/02.00-Proof_of_Concept.html) ><p><a href=\"https://colab.research.google.com/github/jckantor/cbe-virtual-laboratory/blob/master/docs/01.02-MQTT.ipynb\"> <img align=\"left\" src=\"https://colab.research.google.com/assets/colab-badge.svg\" alt=\"Open in Colab\" title=\"Open in Google Colaboratory\"></a><p><a href=\"https://jckantor.github.io/cbe-virtual-laboratory/01.02-MQTT.ipynb\"> <img align=\"left\" src=\"https://img.shields.io/badge/Github-Download-blue.svg\" alt=\"Download\" title=\"Download Notebook\"></a>"
   ]
  }
 ],
 "metadata": {
  "kernelspec": {
   "display_name": "Python 3",
   "language": "python",
   "name": "python3"
  },
  "language_info": {
   "codemirror_mode": {
    "name": "ipython",
    "version": 3
   },
   "file_extension": ".py",
   "mimetype": "text/x-python",
   "name": "python",
   "nbconvert_exporter": "python",
   "pygments_lexer": "ipython3",
   "version": "3.7.4"
  }
 },
 "nbformat": 4,
 "nbformat_minor": 4
}
